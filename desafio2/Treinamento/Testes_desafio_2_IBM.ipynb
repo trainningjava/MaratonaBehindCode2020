{
  "nbformat": 4,
  "nbformat_minor": 0,
  "metadata": {
    "colab": {
      "name": "Testes_desafio_2_IBM.ipynb",
      "provenance": []
    },
    "kernelspec": {
      "name": "python3",
      "display_name": "Python 3"
    }
  },
  "cells": [
    {
      "cell_type": "markdown",
      "metadata": {
        "id": "gcmqU26nk0tX",
        "colab_type": "text"
      },
      "source": [
        "# PANDAS BÁSICO"
      ]
    },
    {
      "cell_type": "markdown",
      "metadata": {
        "id": "KWNJAV22lJK9",
        "colab_type": "text"
      },
      "source": [
        "## IMPORTANDO AS BIBLIOTECAS"
      ]
    },
    {
      "cell_type": "code",
      "metadata": {
        "id": "Bq7Rm_g7kpqf",
        "colab_type": "code",
        "colab": {}
      },
      "source": [
        "#importando as bibliotecas\n",
        "import pandas as pd\n",
        "import numpy as np\n",
        "import matplotlib.pyplot as plt\n",
        "import seaborn as sns"
      ],
      "execution_count": null,
      "outputs": []
    },
    {
      "cell_type": "code",
      "metadata": {
        "id": "3BMMJGXpnDfe",
        "colab_type": "code",
        "colab": {}
      },
      "source": [
        "#para trabalhar\n",
        "dados = pd.read_csv('/content/dataset_desafio_2.csv')"
      ],
      "execution_count": null,
      "outputs": []
    },
    {
      "cell_type": "code",
      "metadata": {
        "id": "F_3ijyfYnpA1",
        "colab_type": "code",
        "colab": {
          "base_uri": "https://localhost:8080/",
          "height": 80
        },
        "outputId": "4a31fbd9-f463-4961-92f0-2b3986ae95b8"
      },
      "source": [
        "#visualizar\n",
        "dados.head(1)"
      ],
      "execution_count": null,
      "outputs": [
        {
          "output_type": "execute_result",
          "data": {
            "text/html": [
              "<div>\n",
              "<style scoped>\n",
              "    .dataframe tbody tr th:only-of-type {\n",
              "        vertical-align: middle;\n",
              "    }\n",
              "\n",
              "    .dataframe tbody tr th {\n",
              "        vertical-align: top;\n",
              "    }\n",
              "\n",
              "    .dataframe thead th {\n",
              "        text-align: right;\n",
              "    }\n",
              "</style>\n",
              "<table border=\"1\" class=\"dataframe\">\n",
              "  <thead>\n",
              "    <tr style=\"text-align: right;\">\n",
              "      <th></th>\n",
              "      <th>MATRICULA</th>\n",
              "      <th>NOME</th>\n",
              "      <th>REPROVACOES_DE</th>\n",
              "      <th>REPROVACOES_EM</th>\n",
              "      <th>REPROVACOES_MF</th>\n",
              "      <th>REPROVACOES_GO</th>\n",
              "      <th>NOTA_DE</th>\n",
              "      <th>NOTA_EM</th>\n",
              "      <th>NOTA_MF</th>\n",
              "      <th>NOTA_GO</th>\n",
              "      <th>INGLES</th>\n",
              "      <th>H_AULA_PRES</th>\n",
              "      <th>TAREFAS_ONLINE</th>\n",
              "      <th>FALTAS</th>\n",
              "      <th>PERFIL</th>\n",
              "    </tr>\n",
              "  </thead>\n",
              "  <tbody>\n",
              "    <tr>\n",
              "      <th>0</th>\n",
              "      <td>502375</td>\n",
              "      <td>Márcia Illiglener</td>\n",
              "      <td>0</td>\n",
              "      <td>0</td>\n",
              "      <td>0</td>\n",
              "      <td>0</td>\n",
              "      <td>6.2</td>\n",
              "      <td>5.8</td>\n",
              "      <td>4.6</td>\n",
              "      <td>5.9</td>\n",
              "      <td>0.0</td>\n",
              "      <td>2</td>\n",
              "      <td>4</td>\n",
              "      <td>3</td>\n",
              "      <td>EXATAS</td>\n",
              "    </tr>\n",
              "  </tbody>\n",
              "</table>\n",
              "</div>"
            ],
            "text/plain": [
              "   MATRICULA               NOME  REPROVACOES_DE  ...  TAREFAS_ONLINE  FALTAS  PERFIL\n",
              "0     502375  Márcia Illiglener               0  ...               4       3  EXATAS\n",
              "\n",
              "[1 rows x 15 columns]"
            ]
          },
          "metadata": {
            "tags": []
          },
          "execution_count": 188
        }
      ]
    },
    {
      "cell_type": "code",
      "metadata": {
        "id": "0ALjnvw9MUaa",
        "colab_type": "code",
        "colab": {}
      },
      "source": [
        "GO_na = dados.loc[dados['NOTA_GO'].isna()]"
      ],
      "execution_count": null,
      "outputs": []
    },
    {
      "cell_type": "code",
      "metadata": {
        "id": "P4Fgn-nyMhQK",
        "colab_type": "code",
        "colab": {
          "base_uri": "https://localhost:8080/",
          "height": 297
        },
        "outputId": "046d69d4-c72d-4192-f9ee-f20b5f3b696b"
      },
      "source": [
        "sns.countplot(GO_na['PERFIL'])"
      ],
      "execution_count": null,
      "outputs": [
        {
          "output_type": "execute_result",
          "data": {
            "text/plain": [
              "<matplotlib.axes._subplots.AxesSubplot at 0x7fc2de63af28>"
            ]
          },
          "metadata": {
            "tags": []
          },
          "execution_count": 190
        },
        {
          "output_type": "display_data",
          "data": {
            "image/png": "[encoded data removed]",
            "text/plain": [
              "<Figure size 432x288 with 1 Axes>"
            ]
          },
          "metadata": {
            "tags": [],
            "needs_background": "light"
          }
        }
      ]
    },
    {
      "cell_type": "code",
      "metadata": {
        "id": "-pXykSmMF4Ze",
        "colab_type": "code",
        "colab": {
          "base_uri": "https://localhost:8080/",
          "height": 102
        },
        "outputId": "dd7eb1a2-4615-41f4-a8d5-cde4cf323bf4"
      },
      "source": [
        "dados.columns"
      ],
      "execution_count": null,
      "outputs": [
        {
          "output_type": "execute_result",
          "data": {
            "text/plain": [
              "Index(['MATRICULA', 'NOME', 'REPROVACOES_DE', 'REPROVACOES_EM',\n",
              "       'REPROVACOES_MF', 'REPROVACOES_GO', 'NOTA_DE', 'NOTA_EM', 'NOTA_MF',\n",
              "       'NOTA_GO', 'INGLES', 'H_AULA_PRES', 'TAREFAS_ONLINE', 'FALTAS',\n",
              "       'PERFIL'],\n",
              "      dtype='object')"
            ]
          },
          "metadata": {
            "tags": []
          },
          "execution_count": 191
        }
      ]
    },
    {
      "cell_type": "code",
      "metadata": {
        "id": "uCY2xR9FFoWU",
        "colab_type": "code",
        "colab": {}
      },
      "source": [
        "dados.drop(['MATRICULA', 'NOME'],axis=1, inplace=True)"
      ],
      "execution_count": null,
      "outputs": []
    },
    {
      "cell_type": "code",
      "metadata": {
        "id": "Cx2sJ8_YGxyy",
        "colab_type": "code",
        "colab": {
          "base_uri": "https://localhost:8080/",
          "height": 80
        },
        "outputId": "34452e7c-6311-497e-bdd0-3335ae0668f7"
      },
      "source": [
        "dados.head(1)"
      ],
      "execution_count": null,
      "outputs": [
        {
          "output_type": "execute_result",
          "data": {
            "text/html": [
              "<div>\n",
              "<style scoped>\n",
              "    .dataframe tbody tr th:only-of-type {\n",
              "        vertical-align: middle;\n",
              "    }\n",
              "\n",
              "    .dataframe tbody tr th {\n",
              "        vertical-align: top;\n",
              "    }\n",
              "\n",
              "    .dataframe thead th {\n",
              "        text-align: right;\n",
              "    }\n",
              "</style>\n",
              "<table border=\"1\" class=\"dataframe\">\n",
              "  <thead>\n",
              "    <tr style=\"text-align: right;\">\n",
              "      <th></th>\n",
              "      <th>REPROVACOES_DE</th>\n",
              "      <th>REPROVACOES_EM</th>\n",
              "      <th>REPROVACOES_MF</th>\n",
              "      <th>REPROVACOES_GO</th>\n",
              "      <th>NOTA_DE</th>\n",
              "      <th>NOTA_EM</th>\n",
              "      <th>NOTA_MF</th>\n",
              "      <th>NOTA_GO</th>\n",
              "      <th>INGLES</th>\n",
              "      <th>H_AULA_PRES</th>\n",
              "      <th>TAREFAS_ONLINE</th>\n",
              "      <th>FALTAS</th>\n",
              "      <th>PERFIL</th>\n",
              "    </tr>\n",
              "  </thead>\n",
              "  <tbody>\n",
              "    <tr>\n",
              "      <th>0</th>\n",
              "      <td>0</td>\n",
              "      <td>0</td>\n",
              "      <td>0</td>\n",
              "      <td>0</td>\n",
              "      <td>6.2</td>\n",
              "      <td>5.8</td>\n",
              "      <td>4.6</td>\n",
              "      <td>5.9</td>\n",
              "      <td>0.0</td>\n",
              "      <td>2</td>\n",
              "      <td>4</td>\n",
              "      <td>3</td>\n",
              "      <td>EXATAS</td>\n",
              "    </tr>\n",
              "  </tbody>\n",
              "</table>\n",
              "</div>"
            ],
            "text/plain": [
              "   REPROVACOES_DE  REPROVACOES_EM  ...  FALTAS  PERFIL\n",
              "0               0               0  ...       3  EXATAS\n",
              "\n",
              "[1 rows x 13 columns]"
            ]
          },
          "metadata": {
            "tags": []
          },
          "execution_count": 193
        }
      ]
    },
    {
      "cell_type": "code",
      "metadata": {
        "id": "W8p31Y_4HILZ",
        "colab_type": "code",
        "colab": {}
      },
      "source": [
        "#substituindo os nulos pela mediana das notas\n",
        "dados.fillna(0, inplace=True)"
      ],
      "execution_count": null,
      "outputs": []
    },
    {
      "cell_type": "code",
      "metadata": {
        "id": "uQP2KoIYHXYZ",
        "colab_type": "code",
        "colab": {}
      },
      "source": [
        "X = dados[['NOTA_DE', 'NOTA_EM', 'NOTA_MF',\n",
        "       'NOTA_GO']]\n",
        "y = dados['PERFIL']"
      ],
      "execution_count": null,
      "outputs": []
    },
    {
      "cell_type": "code",
      "metadata": {
        "id": "vXN-gSKMHib5",
        "colab_type": "code",
        "colab": {}
      },
      "source": [
        "from sklearn.preprocessing import StandardScaler, MinMaxScaler, RobustScaler"
      ],
      "execution_count": null,
      "outputs": []
    },
    {
      "cell_type": "code",
      "metadata": {
        "id": "kx0PnesiHrjw",
        "colab_type": "code",
        "colab": {}
      },
      "source": [
        "#standard\n",
        "std = StandardScaler()\n",
        "mms = MinMaxScaler()\n",
        "rs = RobustScaler()"
      ],
      "execution_count": null,
      "outputs": []
    },
    {
      "cell_type": "code",
      "metadata": {
        "id": "4nBxubAoJfZD",
        "colab_type": "code",
        "colab": {}
      },
      "source": [
        "x_std = std.fit_transform(X)\n",
        "x_mms = mms.fit_transform(X)\n",
        "x_rs = rs.fit_transform(X)"
      ],
      "execution_count": null,
      "outputs": []
    },
    {
      "cell_type": "code",
      "metadata": {
        "id": "xXGZqIy8J4Y7",
        "colab_type": "code",
        "colab": {
          "base_uri": "https://localhost:8080/",
          "height": 136
        },
        "outputId": "d88553f0-78ed-4b51-ed92-a9661e255743"
      },
      "source": [
        "x_std"
      ],
      "execution_count": null,
      "outputs": [
        {
          "output_type": "execute_result",
          "data": {
            "text/plain": [
              "array([[ 0.39779872,  0.28516382, -0.07958074,  0.76949735],\n",
              "       [ 0.31851172,  0.4436509 ,  0.1398212 ,  0.28166544],\n",
              "       [ 0.83387719,  0.64175975,  0.83459399,  1.22248413],\n",
              "       ...,\n",
              "       [ 1.07173818,  0.99835567,  1.27339786,  1.22248413],\n",
              "       [ 0.43744221,  0.00781143, -1.76166224, -1.28636572],\n",
              "       [ 0.7149467 ,  0.87949037, -1.76166224, -1.28636572]])"
            ]
          },
          "metadata": {
            "tags": []
          },
          "execution_count": 199
        }
      ]
    },
    {
      "cell_type": "code",
      "metadata": {
        "id": "mI6Q_eGLJ6E7",
        "colab_type": "code",
        "colab": {
          "base_uri": "https://localhost:8080/",
          "height": 136
        },
        "outputId": "920c6403-b549-4cf1-d9f2-db30750278f7"
      },
      "source": [
        "x_mms"
      ],
      "execution_count": null,
      "outputs": [
        {
          "output_type": "execute_result",
          "data": {
            "text/plain": [
              "array([[0.68888889, 0.61702128, 0.4       , 0.59      ],\n",
              "       [0.66666667, 0.65957447, 0.45217391, 0.45      ],\n",
              "       [0.81111111, 0.71276596, 0.6173913 , 0.72      ],\n",
              "       ...,\n",
              "       [0.87777778, 0.80851064, 0.72173913, 0.72      ],\n",
              "       [0.7       , 0.54255319, 0.        , 0.        ],\n",
              "       [0.77777778, 0.77659574, 0.        , 0.        ]])"
            ]
          },
          "metadata": {
            "tags": []
          },
          "execution_count": 200
        }
      ]
    },
    {
      "cell_type": "code",
      "metadata": {
        "id": "l9_1k9imKAc8",
        "colab_type": "code",
        "colab": {
          "base_uri": "https://localhost:8080/",
          "height": 136
        },
        "outputId": "4bb401e7-3067-4066-dba7-511b81313fd7"
      },
      "source": [
        "x_rs"
      ],
      "execution_count": null,
      "outputs": [
        {
          "output_type": "execute_result",
          "data": {
            "text/plain": [
              "array([[ 0.        , -0.05555556, -0.5       ,  0.15      ],\n",
              "       [-0.13333333,  0.16666667, -0.16666667, -0.08333333],\n",
              "       [ 0.73333333,  0.44444444,  0.88888889,  0.36666667],\n",
              "       ...,\n",
              "       [ 1.13333333,  0.94444444,  1.55555556,  0.36666667],\n",
              "       [ 0.06666667, -0.44444444, -3.05555556, -0.83333333],\n",
              "       [ 0.53333333,  0.77777778, -3.05555556, -0.83333333]])"
            ]
          },
          "metadata": {
            "tags": []
          },
          "execution_count": 201
        }
      ]
    },
    {
      "cell_type": "code",
      "metadata": {
        "id": "P9muXxOLKDLD",
        "colab_type": "code",
        "colab": {}
      },
      "source": [
        "#dividindo os dados\n",
        "from sklearn.model_selection import train_test_split"
      ],
      "execution_count": null,
      "outputs": []
    },
    {
      "cell_type": "code",
      "metadata": {
        "id": "JPwiC2_bKKGT",
        "colab_type": "code",
        "colab": {}
      },
      "source": [
        "Xbase_train, Xbase_test, ybase_train, ybase_test = train_test_split(X,y)"
      ],
      "execution_count": null,
      "outputs": []
    },
    {
      "cell_type": "code",
      "metadata": {
        "id": "PbP03jQpKjFz",
        "colab_type": "code",
        "colab": {}
      },
      "source": [
        "Xstd_train, Xstd_test, ystd_train, ystd_test = train_test_split(x_std,y)"
      ],
      "execution_count": null,
      "outputs": []
    },
    {
      "cell_type": "code",
      "metadata": {
        "id": "MujUjOyWKo8i",
        "colab_type": "code",
        "colab": {}
      },
      "source": [
        "Xmms_train, Xmms_test, ymms_train, ymms_test = train_test_split(x_mms,y)"
      ],
      "execution_count": null,
      "outputs": []
    },
    {
      "cell_type": "code",
      "metadata": {
        "id": "FoS-70jFKw6q",
        "colab_type": "code",
        "colab": {}
      },
      "source": [
        "Xrs_train, Xrs_test, yrs_train, yrs_test = train_test_split(x_rs,y)"
      ],
      "execution_count": null,
      "outputs": []
    },
    {
      "cell_type": "code",
      "metadata": {
        "id": "HmbkA2xdK1lr",
        "colab_type": "code",
        "colab": {}
      },
      "source": [
        "from sklearn.ensemble import RandomForestClassifier\n",
        "from sklearn.svm import SVC"
      ],
      "execution_count": null,
      "outputs": []
    },
    {
      "cell_type": "code",
      "metadata": {
        "id": "z0NbfgRIK72a",
        "colab_type": "code",
        "colab": {}
      },
      "source": [
        "rf = RandomForestClassifier(random_state=42)"
      ],
      "execution_count": null,
      "outputs": []
    },
    {
      "cell_type": "code",
      "metadata": {
        "id": "v5DAFvYYK_US",
        "colab_type": "code",
        "colab": {}
      },
      "source": [
        "svc = SVC()"
      ],
      "execution_count": null,
      "outputs": []
    },
    {
      "cell_type": "code",
      "metadata": {
        "id": "8Il9rdjhLcMR",
        "colab_type": "code",
        "colab": {}
      },
      "source": [
        "from sklearn.metrics import accuracy_score, classification_report"
      ],
      "execution_count": null,
      "outputs": []
    },
    {
      "cell_type": "code",
      "metadata": {
        "id": "dRYsjCC3LiMp",
        "colab_type": "code",
        "colab": {}
      },
      "source": [
        "modelo1 = rf.fit(Xbase_train, ybase_train)"
      ],
      "execution_count": null,
      "outputs": []
    },
    {
      "cell_type": "code",
      "metadata": {
        "id": "b_M1XdjPL5zo",
        "colab_type": "code",
        "colab": {}
      },
      "source": [
        "ybase_pred = modelo1.predict(Xbase_test)"
      ],
      "execution_count": null,
      "outputs": []
    },
    {
      "cell_type": "code",
      "metadata": {
        "id": "OgxYCVkCNLYn",
        "colab_type": "code",
        "colab": {}
      },
      "source": [
        "from sklearn.metrics import accuracy_score, classification_report, confusion_matrix"
      ],
      "execution_count": null,
      "outputs": []
    },
    {
      "cell_type": "code",
      "metadata": {
        "id": "xLk52SlsNXa9",
        "colab_type": "code",
        "colab": {
          "base_uri": "https://localhost:8080/",
          "height": 34
        },
        "outputId": "d52c32c7-cc57-4b8c-dede-46741ceec449"
      },
      "source": [
        "accuracy_score(ybase_test,ybase_pred)"
      ],
      "execution_count": null,
      "outputs": [
        {
          "output_type": "execute_result",
          "data": {
            "text/plain": [
              "0.7902"
            ]
          },
          "metadata": {
            "tags": []
          },
          "execution_count": 214
        }
      ]
    },
    {
      "cell_type": "code",
      "metadata": {
        "id": "xJ8yG9v8Nctu",
        "colab_type": "code",
        "colab": {
          "base_uri": "https://localhost:8080/",
          "height": 221
        },
        "outputId": "19de3267-89bf-49ca-b695-c2614ee61ec2"
      },
      "source": [
        "print(classification_report(ybase_test,ybase_pred))"
      ],
      "execution_count": null,
      "outputs": [
        {
          "output_type": "stream",
          "text": [
            "              precision    recall  f1-score   support\n",
            "\n",
            " DIFICULDADE       0.85      0.73      0.79      1754\n",
            "      EXATAS       0.80      0.89      0.84      2067\n",
            "   EXCELENTE       0.62      0.58      0.60       174\n",
            "     HUMANAS       0.76      0.90      0.82       782\n",
            "   MUITO_BOM       0.24      0.11      0.15       223\n",
            "\n",
            "    accuracy                           0.79      5000\n",
            "   macro avg       0.66      0.64      0.64      5000\n",
            "weighted avg       0.78      0.79      0.78      5000\n",
            "\n"
          ],
          "name": "stdout"
        }
      ]
    },
    {
      "cell_type": "code",
      "metadata": {
        "id": "ZgJIxawRNrV0",
        "colab_type": "code",
        "colab": {}
      },
      "source": [
        "modelo2 = rf.fit(Xstd_train, ystd_train)"
      ],
      "execution_count": null,
      "outputs": []
    },
    {
      "cell_type": "code",
      "metadata": {
        "id": "AzjZZG8MOHIj",
        "colab_type": "code",
        "colab": {}
      },
      "source": [
        "ystd_pred = modelo2.predict(Xstd_test)"
      ],
      "execution_count": null,
      "outputs": []
    },
    {
      "cell_type": "code",
      "metadata": {
        "id": "9jpH6sm9OOBE",
        "colab_type": "code",
        "colab": {
          "base_uri": "https://localhost:8080/",
          "height": 34
        },
        "outputId": "ac3a4cf7-a6cb-4cc4-b59a-4406bb9ead69"
      },
      "source": [
        "#valor a bater 0.792\n",
        "accuracy_score(ystd_test,ystd_pred)"
      ],
      "execution_count": null,
      "outputs": [
        {
          "output_type": "execute_result",
          "data": {
            "text/plain": [
              "0.79"
            ]
          },
          "metadata": {
            "tags": []
          },
          "execution_count": 218
        }
      ]
    },
    {
      "cell_type": "code",
      "metadata": {
        "id": "rdcvtak5ORIr",
        "colab_type": "code",
        "colab": {
          "base_uri": "https://localhost:8080/",
          "height": 221
        },
        "outputId": "0a1ebedf-e3a2-4922-a992-102aff40986e"
      },
      "source": [
        "print(classification_report(ystd_test,ystd_pred))"
      ],
      "execution_count": null,
      "outputs": [
        {
          "output_type": "stream",
          "text": [
            "              precision    recall  f1-score   support\n",
            "\n",
            " DIFICULDADE       0.85      0.74      0.79      1737\n",
            "      EXATAS       0.80      0.89      0.84      2077\n",
            "   EXCELENTE       0.62      0.60      0.61       177\n",
            "     HUMANAS       0.75      0.89      0.81       770\n",
            "   MUITO_BOM       0.31      0.13      0.18       239\n",
            "\n",
            "    accuracy                           0.79      5000\n",
            "   macro avg       0.67      0.65      0.65      5000\n",
            "weighted avg       0.78      0.79      0.78      5000\n",
            "\n"
          ],
          "name": "stdout"
        }
      ]
    },
    {
      "cell_type": "code",
      "metadata": {
        "id": "faO6jVTUOaDs",
        "colab_type": "code",
        "colab": {}
      },
      "source": [
        "modelo3 = rf.fit(Xmms_train,ymms_train)"
      ],
      "execution_count": null,
      "outputs": []
    },
    {
      "cell_type": "code",
      "metadata": {
        "id": "GtSSOKJgOpIb",
        "colab_type": "code",
        "colab": {}
      },
      "source": [
        "ymms_pred = modelo3.predict(Xmms_test)"
      ],
      "execution_count": null,
      "outputs": []
    },
    {
      "cell_type": "code",
      "metadata": {
        "id": "90NzUrf4OwwD",
        "colab_type": "code",
        "colab": {
          "base_uri": "https://localhost:8080/",
          "height": 34
        },
        "outputId": "4058166d-f3ba-49c4-b0c1-da3a443e6160"
      },
      "source": [
        "#valor a bater 0.792(median) - melhorou para 0.8006 com o na =0\n",
        "accuracy_score(ymms_test,ymms_pred)"
      ],
      "execution_count": null,
      "outputs": [
        {
          "output_type": "execute_result",
          "data": {
            "text/plain": [
              "0.8006"
            ]
          },
          "metadata": {
            "tags": []
          },
          "execution_count": 222
        }
      ]
    },
    {
      "cell_type": "code",
      "metadata": {
        "id": "8nERjyxmO0Nr",
        "colab_type": "code",
        "colab": {
          "base_uri": "https://localhost:8080/",
          "height": 221
        },
        "outputId": "5d64adb5-5d61-4919-8b99-bf498974ace3"
      },
      "source": [
        "print(classification_report(ymms_test,ymms_pred))"
      ],
      "execution_count": null,
      "outputs": [
        {
          "output_type": "stream",
          "text": [
            "              precision    recall  f1-score   support\n",
            "\n",
            " DIFICULDADE       0.85      0.76      0.81      1754\n",
            "      EXATAS       0.81      0.88      0.85      2072\n",
            "   EXCELENTE       0.59      0.56      0.58       177\n",
            "     HUMANAS       0.77      0.89      0.83       790\n",
            "   MUITO_BOM       0.29      0.14      0.19       207\n",
            "\n",
            "    accuracy                           0.80      5000\n",
            "   macro avg       0.66      0.65      0.65      5000\n",
            "weighted avg       0.79      0.80      0.79      5000\n",
            "\n"
          ],
          "name": "stdout"
        }
      ]
    },
    {
      "cell_type": "code",
      "metadata": {
        "id": "vk2C77inO5rK",
        "colab_type": "code",
        "colab": {}
      },
      "source": [
        "modelo4 = rf.fit(Xrs_train, yrs_train)"
      ],
      "execution_count": null,
      "outputs": []
    },
    {
      "cell_type": "code",
      "metadata": {
        "id": "0Sw1VoSYPBZa",
        "colab_type": "code",
        "colab": {}
      },
      "source": [
        "yrs_pred = modelo4.predict(Xrs_test)"
      ],
      "execution_count": null,
      "outputs": []
    },
    {
      "cell_type": "code",
      "metadata": {
        "id": "914L0FZXPG-q",
        "colab_type": "code",
        "colab": {
          "base_uri": "https://localhost:8080/",
          "height": 34
        },
        "outputId": "d6955b71-fd7c-4c66-9522-4573439a5166"
      },
      "source": [
        "#valor a bater = 0.8028\n",
        "accuracy_score(yrs_test,yrs_pred)"
      ],
      "execution_count": null,
      "outputs": [
        {
          "output_type": "execute_result",
          "data": {
            "text/plain": [
              "0.7948"
            ]
          },
          "metadata": {
            "tags": []
          },
          "execution_count": 228
        }
      ]
    },
    {
      "cell_type": "code",
      "metadata": {
        "id": "DNvk-lhePLEC",
        "colab_type": "code",
        "colab": {
          "base_uri": "https://localhost:8080/",
          "height": 221
        },
        "outputId": "5a60739f-ec76-4246-e0a3-186ddbc22627"
      },
      "source": [
        "print(classification_report(yrs_test,yrs_pred))"
      ],
      "execution_count": null,
      "outputs": [
        {
          "output_type": "stream",
          "text": [
            "              precision    recall  f1-score   support\n",
            "\n",
            " DIFICULDADE       0.85      0.75      0.80      1729\n",
            "      EXATAS       0.81      0.89      0.85      2095\n",
            "   EXCELENTE       0.62      0.56      0.59       175\n",
            "     HUMANAS       0.75      0.92      0.82       769\n",
            "   MUITO_BOM       0.28      0.11      0.16       232\n",
            "\n",
            "    accuracy                           0.79      5000\n",
            "   macro avg       0.66      0.64      0.64      5000\n",
            "weighted avg       0.78      0.79      0.78      5000\n",
            "\n"
          ],
          "name": "stdout"
        }
      ]
    },
    {
      "cell_type": "code",
      "metadata": {
        "id": "ol-LhytpPQIl",
        "colab_type": "code",
        "colab": {}
      },
      "source": [
        "#mudando o classificador\n",
        "modelo5 = svc.fit(Xbase_train, ybase_train)\n",
        "modelo6 = svc.fit(Xstd_train, ystd_train)\n",
        "modelo7 = svc.fit(Xmms_train, ymms_train)\n",
        "modelo8 = svc.fit(Xrs_train, yrs_train)"
      ],
      "execution_count": null,
      "outputs": []
    },
    {
      "cell_type": "code",
      "metadata": {
        "id": "2jsLw8gMPp2p",
        "colab_type": "code",
        "colab": {}
      },
      "source": [
        "y_base_svc = modelo5.predict(Xbase_test)\n",
        "y_std_svc = modelo6.predict(Xstd_test)\n",
        "y_mms_svc = modelo7.predict(Xmms_test)\n",
        "y_rs_svc = modelo8.predict(Xrs_test)"
      ],
      "execution_count": null,
      "outputs": []
    },
    {
      "cell_type": "code",
      "metadata": {
        "id": "U_y1K21VQDQw",
        "colab_type": "code",
        "colab": {
          "base_uri": "https://localhost:8080/",
          "height": 34
        },
        "outputId": "be8ecbef-671a-48d7-fb85-8d9b66b7a155"
      },
      "source": [
        "#melhor valor 0.81 sem class_weight e nan pela mediana\n",
        "accuracy_score(ybase_test, y_base_svc), accuracy_score(ystd_test, y_std_svc), accuracy_score(ymms_test, y_mms_svc), accuracy_score(yrs_test, y_rs_svc)"
      ],
      "execution_count": null,
      "outputs": [
        {
          "output_type": "execute_result",
          "data": {
            "text/plain": [
              "(0.1764, 0.7768, 0.532, 0.8048)"
            ]
          },
          "metadata": {
            "tags": []
          },
          "execution_count": 235
        }
      ]
    },
    {
      "cell_type": "code",
      "metadata": {
        "id": "PPRys9xDQZxB",
        "colab_type": "code",
        "colab": {}
      },
      "source": [
        "X= dados.drop(['PERFIL'], axis=1)\n",
        "Y= dados['PERFIL']"
      ],
      "execution_count": null,
      "outputs": []
    },
    {
      "cell_type": "code",
      "metadata": {
        "id": "L0xeXDJmSuZC",
        "colab_type": "code",
        "colab": {}
      },
      "source": [
        "x_train, x_test, y_train, y_test = train_test_split(X,Y)"
      ],
      "execution_count": null,
      "outputs": []
    },
    {
      "cell_type": "code",
      "metadata": {
        "id": "okM-JgpyS63L",
        "colab_type": "code",
        "colab": {}
      },
      "source": [
        "RF = rf.fit(x_train,y_train)"
      ],
      "execution_count": null,
      "outputs": []
    },
    {
      "cell_type": "code",
      "metadata": {
        "id": "upFBhiQ5TGB6",
        "colab_type": "code",
        "colab": {}
      },
      "source": [
        "SVC = SVC.fit(x_train, y_train)"
      ],
      "execution_count": null,
      "outputs": []
    },
    {
      "cell_type": "code",
      "metadata": {
        "id": "_bldX2LkTMFK",
        "colab_type": "code",
        "colab": {}
      },
      "source": [
        "y_pred_rf = RF.predict(x_test)"
      ],
      "execution_count": null,
      "outputs": []
    },
    {
      "cell_type": "code",
      "metadata": {
        "id": "YT0qzCKkTXhi",
        "colab_type": "code",
        "colab": {}
      },
      "source": [
        "y_pred_svc = SVC.predict(x_test)"
      ],
      "execution_count": null,
      "outputs": []
    },
    {
      "cell_type": "code",
      "metadata": {
        "id": "tuDPmwl5Tbqh",
        "colab_type": "code",
        "colab": {
          "base_uri": "https://localhost:8080/",
          "height": 34
        },
        "outputId": "3d593151-8e98-463f-99fa-a2efc096c77b"
      },
      "source": [
        "accuracy_score(y_test,y_pred_rf)"
      ],
      "execution_count": null,
      "outputs": [
        {
          "output_type": "execute_result",
          "data": {
            "text/plain": [
              "0.8012"
            ]
          },
          "metadata": {
            "tags": []
          },
          "execution_count": 245
        }
      ]
    },
    {
      "cell_type": "code",
      "metadata": {
        "id": "U7xesTlKTjER",
        "colab_type": "code",
        "colab": {
          "base_uri": "https://localhost:8080/",
          "height": 34
        },
        "outputId": "42420b71-d25c-4adb-a1a9-71bf02d91f7f"
      },
      "source": [
        "accuracy_score(y_test,y_pred_svc)"
      ],
      "execution_count": null,
      "outputs": [
        {
          "output_type": "execute_result",
          "data": {
            "text/plain": [
              "0.784"
            ]
          },
          "metadata": {
            "tags": []
          },
          "execution_count": 246
        }
      ]
    },
    {
      "cell_type": "code",
      "metadata": {
        "id": "4qrOBRJPTljm",
        "colab_type": "code",
        "colab": {
          "base_uri": "https://localhost:8080/",
          "height": 221
        },
        "outputId": "af175ef6-fad2-4950-edea-58798eeecb62"
      },
      "source": [
        "print(classification_report(y_test,y_pred_rf))"
      ],
      "execution_count": null,
      "outputs": [
        {
          "output_type": "stream",
          "text": [
            "              precision    recall  f1-score   support\n",
            "\n",
            " DIFICULDADE       0.88      0.72      0.80      1786\n",
            "      EXATAS       0.79      0.91      0.85      2033\n",
            "   EXCELENTE       0.70      0.66      0.68       158\n",
            "     HUMANAS       0.75      0.93      0.83       790\n",
            "   MUITO_BOM       0.28      0.07      0.11       233\n",
            "\n",
            "    accuracy                           0.80      5000\n",
            "   macro avg       0.68      0.66      0.65      5000\n",
            "weighted avg       0.79      0.80      0.79      5000\n",
            "\n"
          ],
          "name": "stdout"
        }
      ]
    },
    {
      "cell_type": "code",
      "metadata": {
        "id": "qcRLWmtfTqKK",
        "colab_type": "code",
        "colab": {}
      },
      "source": [
        "from imblearn.over_sampling import SMOTE"
      ],
      "execution_count": null,
      "outputs": []
    },
    {
      "cell_type": "code",
      "metadata": {
        "id": "YlmqamaVTzXJ",
        "colab_type": "code",
        "colab": {}
      },
      "source": [
        "smote = SMOTE(ratio='minority')"
      ],
      "execution_count": null,
      "outputs": []
    },
    {
      "cell_type": "code",
      "metadata": {
        "id": "brFhKCHgUNi4",
        "colab_type": "code",
        "colab": {
          "base_uri": "https://localhost:8080/",
          "height": 71
        },
        "outputId": "05973364-600e-40bc-cbf3-4d4342873d47"
      },
      "source": [
        "x_smote,y_smote = smote.fit_resample(x_train,y_train)"
      ],
      "execution_count": null,
      "outputs": [
        {
          "output_type": "stream",
          "text": [
            "/usr/local/lib/python3.6/dist-packages/sklearn/utils/deprecation.py:87: FutureWarning: Function safe_indexing is deprecated; safe_indexing is deprecated in version 0.22 and will be removed in version 0.24.\n",
            "  warnings.warn(msg, category=FutureWarning)\n"
          ],
          "name": "stderr"
        }
      ]
    },
    {
      "cell_type": "code",
      "metadata": {
        "id": "5DzLjG63URKP",
        "colab_type": "code",
        "colab": {}
      },
      "source": [
        "modelo_smote = SVC.fit(x_smote,y_smote)"
      ],
      "execution_count": null,
      "outputs": []
    },
    {
      "cell_type": "code",
      "metadata": {
        "id": "oNy6Fw_TUim4",
        "colab_type": "code",
        "colab": {}
      },
      "source": [
        "y_pred_smote = modelo_smote.predict(x_test)"
      ],
      "execution_count": null,
      "outputs": []
    },
    {
      "cell_type": "code",
      "metadata": {
        "id": "A9UatQMvUrUv",
        "colab_type": "code",
        "colab": {
          "base_uri": "https://localhost:8080/",
          "height": 34
        },
        "outputId": "8c463c49-0071-41a3-b73b-8a3090807fad"
      },
      "source": [
        "accuracy_score(y_test,y_pred_smote)"
      ],
      "execution_count": null,
      "outputs": [
        {
          "output_type": "execute_result",
          "data": {
            "text/plain": [
              "0.756"
            ]
          },
          "metadata": {
            "tags": []
          },
          "execution_count": 263
        }
      ]
    },
    {
      "cell_type": "code",
      "metadata": {
        "id": "dU1CsvKcUu7n",
        "colab_type": "code",
        "colab": {
          "base_uri": "https://localhost:8080/",
          "height": 54
        },
        "outputId": "9ab9e07f-065b-43ac-f902-547db004a475"
      },
      "source": [
        "from sklearn.model_selection import RandomizedSearchCV\n",
        "# Number of trees in random forest\n",
        "n_estimators = [int(x) for x in np.linspace(start = 200, stop = 2000, num = 10)]\n",
        "# Number of features to consider at every split\n",
        "max_features = ['auto', 'sqrt']\n",
        "# Maximum number of levels in tree\n",
        "max_depth = [int(x) for x in np.linspace(10, 110, num = 11)]\n",
        "max_depth.append(None)\n",
        "# Minimum number of samples required to split a node\n",
        "min_samples_split = [2, 5, 10]\n",
        "# Minimum number of samples required at each leaf node\n",
        "min_samples_leaf = [1, 2, 4]\n",
        "# Method of selecting samples for training each tree\n",
        "bootstrap = [True, False]\n",
        "# Create the random grid\n",
        "random_grid = {'n_estimators': n_estimators,\n",
        "               'max_features': max_features,\n",
        "               'max_depth': max_depth,\n",
        "               'min_samples_split': min_samples_split,\n",
        "               'min_samples_leaf': min_samples_leaf,\n",
        "               'bootstrap': bootstrap}\n",
        "print(random_grid)\n"
      ],
      "execution_count": null,
      "outputs": [
        {
          "output_type": "stream",
          "text": [
            "{'n_estimators': [200, 400, 600, 800, 1000, 1200, 1400, 1600, 1800, 2000], 'max_features': ['auto', 'sqrt'], 'max_depth': [10, 20, 30, 40, 50, 60, 70, 80, 90, 100, 110, None], 'min_samples_split': [2, 5, 10], 'min_samples_leaf': [1, 2, 4], 'bootstrap': [True, False]}\n"
          ],
          "name": "stdout"
        }
      ]
    },
    {
      "cell_type": "code",
      "metadata": {
        "id": "bm-6Y4ivVvOt",
        "colab_type": "code",
        "colab": {
          "base_uri": "https://localhost:8080/",
          "height": 632
        },
        "outputId": "5098d893-eed7-41ef-a2d6-51d63b0fbb78"
      },
      "source": [
        "# Use the random grid to search for best hyperparameters\n",
        "# First create the base model to tune\n",
        "RF_random = RandomizedSearchCV(estimator = RF, param_distributions = random_grid, n_iter = 100, cv = 3, verbose=2, random_state=42, n_jobs = -1)\n",
        "# Fit the random search model\n",
        "RF_random.fit(x_train, y_train)"
      ],
      "execution_count": null,
      "outputs": [
        {
          "output_type": "stream",
          "text": [
            "Fitting 3 folds for each of 100 candidates, totalling 300 fits\n"
          ],
          "name": "stdout"
        },
        {
          "output_type": "stream",
          "text": [
            "[Parallel(n_jobs=-1)]: Using backend LokyBackend with 2 concurrent workers.\n",
            "/usr/local/lib/python3.6/dist-packages/joblib/externals/loky/process_executor.py:691: UserWarning: A worker stopped while some jobs were given to the executor. This can be caused by a too short worker timeout or by a memory leak.\n",
            "  \"timeout or by a memory leak.\", UserWarning\n",
            "[Parallel(n_jobs=-1)]: Done  37 tasks      | elapsed:  6.0min\n",
            "[Parallel(n_jobs=-1)]: Done 158 tasks      | elapsed: 26.3min\n",
            "[Parallel(n_jobs=-1)]: Done 300 out of 300 | elapsed: 47.4min finished\n"
          ],
          "name": "stderr"
        },
        {
          "output_type": "execute_result",
          "data": {
            "text/plain": [
              "RandomizedSearchCV(cv=3, error_score=nan,\n",
              "                   estimator=RandomForestClassifier(bootstrap=True,\n",
              "                                                    ccp_alpha=0.0,\n",
              "                                                    class_weight=None,\n",
              "                                                    criterion='gini',\n",
              "                                                    max_depth=None,\n",
              "                                                    max_features='auto',\n",
              "                                                    max_leaf_nodes=None,\n",
              "                                                    max_samples=None,\n",
              "                                                    min_impurity_decrease=0.0,\n",
              "                                                    min_impurity_split=None,\n",
              "                                                    min_samples_leaf=1,\n",
              "                                                    min_samples_split=2,\n",
              "                                                    min_weight_fraction_leaf=0.0,\n",
              "                                                    n_estimators=100,\n",
              "                                                    n_jobs...\n",
              "                   param_distributions={'bootstrap': [True, False],\n",
              "                                        'max_depth': [10, 20, 30, 40, 50, 60,\n",
              "                                                      70, 80, 90, 100, 110,\n",
              "                                                      None],\n",
              "                                        'max_features': ['auto', 'sqrt'],\n",
              "                                        'min_samples_leaf': [1, 2, 4],\n",
              "                                        'min_samples_split': [2, 5, 10],\n",
              "                                        'n_estimators': [200, 400, 600, 800,\n",
              "                                                         1000, 1200, 1400, 1600,\n",
              "                                                         1800, 2000]},\n",
              "                   pre_dispatch='2*n_jobs', random_state=42, refit=True,\n",
              "                   return_train_score=False, scoring=None, verbose=2)"
            ]
          },
          "metadata": {
            "tags": []
          },
          "execution_count": 267
        }
      ]
    },
    {
      "cell_type": "code",
      "metadata": {
        "id": "GhhkPHuLV5zt",
        "colab_type": "code",
        "colab": {
          "base_uri": "https://localhost:8080/",
          "height": 153
        },
        "outputId": "0703fa65-4b92-4fbd-b548-48133d630e5f"
      },
      "source": [
        "RF_random.best_estimator_"
      ],
      "execution_count": null,
      "outputs": [
        {
          "output_type": "execute_result",
          "data": {
            "text/plain": [
              "RandomForestClassifier(bootstrap=True, ccp_alpha=0.0, class_weight=None,\n",
              "                       criterion='gini', max_depth=None, max_features='sqrt',\n",
              "                       max_leaf_nodes=None, max_samples=None,\n",
              "                       min_impurity_decrease=0.0, min_impurity_split=None,\n",
              "                       min_samples_leaf=1, min_samples_split=10,\n",
              "                       min_weight_fraction_leaf=0.0, n_estimators=1600,\n",
              "                       n_jobs=None, oob_score=False, random_state=42, verbose=0,\n",
              "                       warm_start=False)"
            ]
          },
          "metadata": {
            "tags": []
          },
          "execution_count": 271
        }
      ]
    },
    {
      "cell_type": "code",
      "metadata": {
        "id": "xXcJEV3V3RPr",
        "colab_type": "code",
        "colab": {}
      },
      "source": [
        "rf = RandomForestClassifier(bootstrap=True, ccp_alpha=0.0, class_weight=None,\n",
        "                       criterion='gini', max_depth=None, max_features='sqrt',\n",
        "                       max_leaf_nodes=None, max_samples=None,\n",
        "                       min_impurity_decrease=0.0, min_impurity_split=None,\n",
        "                       min_samples_leaf=1, min_samples_split=10,\n",
        "                       min_weight_fraction_leaf=0.0, n_estimators=1600,\n",
        "                       n_jobs=None, oob_score=False, random_state=42, verbose=0,\n",
        "                       warm_start=False)\n"
      ],
      "execution_count": null,
      "outputs": []
    },
    {
      "cell_type": "code",
      "metadata": {
        "id": "A-UaK-qh3bEW",
        "colab_type": "code",
        "colab": {
          "base_uri": "https://localhost:8080/",
          "height": 34
        },
        "outputId": "e2fc4721-06b5-41bf-b57e-f1ffa01b3274"
      },
      "source": [
        "RF_random.best_score_"
      ],
      "execution_count": null,
      "outputs": [
        {
          "output_type": "execute_result",
          "data": {
            "text/plain": [
              "0.8148666666666666"
            ]
          },
          "metadata": {
            "tags": []
          },
          "execution_count": 304
        }
      ]
    },
    {
      "cell_type": "code",
      "metadata": {
        "id": "BPm-CatC4e4_",
        "colab_type": "code",
        "colab": {}
      },
      "source": [
        "modelo = rf.fit(x_train, y_train)"
      ],
      "execution_count": null,
      "outputs": []
    },
    {
      "cell_type": "code",
      "metadata": {
        "id": "XnVsoqqA42o4",
        "colab_type": "code",
        "colab": {}
      },
      "source": [
        "predict = rf.predict(x_test)"
      ],
      "execution_count": null,
      "outputs": []
    },
    {
      "cell_type": "code",
      "metadata": {
        "id": "7Xwt4Nhl5Buk",
        "colab_type": "code",
        "colab": {
          "base_uri": "https://localhost:8080/",
          "height": 34
        },
        "outputId": "3a8074f5-818d-48c4-97ee-ed4996c845cb"
      },
      "source": [
        "accuracy_score(y_test, predict)"
      ],
      "execution_count": null,
      "outputs": [
        {
          "output_type": "execute_result",
          "data": {
            "text/plain": [
              "0.803"
            ]
          },
          "metadata": {
            "tags": []
          },
          "execution_count": 307
        }
      ]
    },
    {
      "cell_type": "code",
      "metadata": {
        "id": "AkjvUrsu5Byx",
        "colab_type": "code",
        "colab": {
          "base_uri": "https://localhost:8080/",
          "height": 221
        },
        "outputId": "08aaeb08-bfe1-4ed6-a8bd-4aa5f1150390"
      },
      "source": [
        "print(classification_report(y_test, predict))"
      ],
      "execution_count": null,
      "outputs": [
        {
          "output_type": "stream",
          "text": [
            "              precision    recall  f1-score   support\n",
            "\n",
            " DIFICULDADE       0.90      0.73      0.81      1786\n",
            "      EXATAS       0.80      0.91      0.85      2033\n",
            "   EXCELENTE       0.60      0.78      0.68       158\n",
            "     HUMANAS       0.79      0.86      0.83       790\n",
            "   MUITO_BOM       0.30      0.19      0.24       233\n",
            "\n",
            "    accuracy                           0.80      5000\n",
            "   macro avg       0.68      0.70      0.68      5000\n",
            "weighted avg       0.80      0.80      0.80      5000\n",
            "\n"
          ],
          "name": "stdout"
        }
      ]
    },
    {
      "cell_type": "code",
      "metadata": {
        "id": "HZ6xcKIK5B3J",
        "colab_type": "code",
        "colab": {}
      },
      "source": [
        "from sklearn.dummy import DummyClassifier"
      ],
      "execution_count": null,
      "outputs": []
    },
    {
      "cell_type": "code",
      "metadata": {
        "id": "CiD6sgAH9OdV",
        "colab_type": "code",
        "colab": {}
      },
      "source": [
        "dummy = DummyClassifier()"
      ],
      "execution_count": null,
      "outputs": []
    },
    {
      "cell_type": "code",
      "metadata": {
        "id": "su4oRUJD9ReC",
        "colab_type": "code",
        "colab": {
          "base_uri": "https://localhost:8080/",
          "height": 68
        },
        "outputId": "d1a54748-51cf-4021-bc8f-3f87874c00a9"
      },
      "source": [
        "dummy.fit(x_train,y_train)"
      ],
      "execution_count": null,
      "outputs": [
        {
          "output_type": "stream",
          "text": [
            "/usr/local/lib/python3.6/dist-packages/sklearn/dummy.py:132: FutureWarning: The default value of strategy will change from stratified to prior in 0.24.\n",
            "  \"stratified to prior in 0.24.\", FutureWarning)\n"
          ],
          "name": "stderr"
        },
        {
          "output_type": "execute_result",
          "data": {
            "text/plain": [
              "DummyClassifier(constant=None, random_state=None, strategy='warn')"
            ]
          },
          "metadata": {
            "tags": []
          },
          "execution_count": 298
        }
      ]
    },
    {
      "cell_type": "code",
      "metadata": {
        "id": "GmZMY_3p9VfZ",
        "colab_type": "code",
        "colab": {}
      },
      "source": [
        "pred = dummy.predict(x_test)"
      ],
      "execution_count": null,
      "outputs": []
    },
    {
      "cell_type": "code",
      "metadata": {
        "id": "s9csEQqy9aYR",
        "colab_type": "code",
        "colab": {
          "base_uri": "https://localhost:8080/",
          "height": 221
        },
        "outputId": "a67c7cf7-88f2-4c7c-d326-7ee46a686d9c"
      },
      "source": [
        "print(classification_report(y_test, pred))"
      ],
      "execution_count": null,
      "outputs": [
        {
          "output_type": "stream",
          "text": [
            "              precision    recall  f1-score   support\n",
            "\n",
            " DIFICULDADE       0.34      0.33      0.34      1786\n",
            "      EXATAS       0.40      0.40      0.40      2033\n",
            "   EXCELENTE       0.04      0.04      0.04       158\n",
            "     HUMANAS       0.15      0.15      0.15       790\n",
            "   MUITO_BOM       0.04      0.04      0.04       233\n",
            "\n",
            "    accuracy                           0.31      5000\n",
            "   macro avg       0.19      0.19      0.19      5000\n",
            "weighted avg       0.31      0.31      0.31      5000\n",
            "\n"
          ],
          "name": "stdout"
        }
      ]
    },
    {
      "cell_type": "code",
      "metadata": {
        "id": "OrZ5zRmx9fag",
        "colab_type": "code",
        "colab": {
          "base_uri": "https://localhost:8080/",
          "height": 34
        },
        "outputId": "c30e1783-9150-403c-ac06-4d0749f48f5f"
      },
      "source": [
        "accuracy_score(y_test, pred)"
      ],
      "execution_count": null,
      "outputs": [
        {
          "output_type": "execute_result",
          "data": {
            "text/plain": [
              "0.3096"
            ]
          },
          "metadata": {
            "tags": []
          },
          "execution_count": 301
        }
      ]
    },
    {
      "cell_type": "code",
      "metadata": {
        "id": "_9TyBe8o9li4",
        "colab_type": "code",
        "colab": {}
      },
      "source": [
        "from xgboost import XGBClassifier\n",
        "xgb = XGBClassifier(learning_rate=0.5, max_depth=1, min_child_weight=3, n_estimators=100, nthread=1, subsample=0.9000000000000001)"
      ],
      "execution_count": null,
      "outputs": []
    },
    {
      "cell_type": "code",
      "metadata": {
        "id": "37RfjYaJ-YHo",
        "colab_type": "code",
        "colab": {}
      },
      "source": [
        "modelo2 = xgb.fit(x_train,y_train)"
      ],
      "execution_count": null,
      "outputs": []
    },
    {
      "cell_type": "code",
      "metadata": {
        "id": "EmrvN4L0-4vX",
        "colab_type": "code",
        "colab": {}
      },
      "source": [
        "pred = xgb.predict(x_test)"
      ],
      "execution_count": null,
      "outputs": []
    },
    {
      "cell_type": "code",
      "metadata": {
        "id": "b3BmiR-tABmU",
        "colab_type": "code",
        "colab": {
          "base_uri": "https://localhost:8080/",
          "height": 34
        },
        "outputId": "fa97f1e0-b9d5-43a2-f709-06539405655d"
      },
      "source": [
        "accuracy_score(y_test, pred)"
      ],
      "execution_count": null,
      "outputs": [
        {
          "output_type": "execute_result",
          "data": {
            "text/plain": [
              "0.8118"
            ]
          },
          "metadata": {
            "tags": []
          },
          "execution_count": 314
        }
      ]
    },
    {
      "cell_type": "code",
      "metadata": {
        "id": "cZM8zrqGAGjb",
        "colab_type": "code",
        "colab": {
          "base_uri": "https://localhost:8080/",
          "height": 221
        },
        "outputId": "30add86f-8aae-4561-f967-35662bdfa92f"
      },
      "source": [
        "print(classification_report(y_test, pred))"
      ],
      "execution_count": null,
      "outputs": [
        {
          "output_type": "stream",
          "text": [
            "              precision    recall  f1-score   support\n",
            "\n",
            " DIFICULDADE       0.91      0.72      0.80      1786\n",
            "      EXATAS       0.79      0.93      0.86      2033\n",
            "   EXCELENTE       0.68      0.70      0.69       158\n",
            "     HUMANAS       0.75      0.96      0.84       790\n",
            "   MUITO_BOM       0.36      0.05      0.09       233\n",
            "\n",
            "    accuracy                           0.81      5000\n",
            "   macro avg       0.70      0.67      0.66      5000\n",
            "weighted avg       0.80      0.81      0.79      5000\n",
            "\n"
          ],
          "name": "stdout"
        }
      ]
    },
    {
      "cell_type": "code",
      "metadata": {
        "id": "XoJg6-_xAJId",
        "colab_type": "code",
        "colab": {}
      },
      "source": [
        "from sklearn.model_selection import KFold"
      ],
      "execution_count": null,
      "outputs": []
    },
    {
      "cell_type": "code",
      "metadata": {
        "id": "oZRxGezaC1wW",
        "colab_type": "code",
        "colab": {}
      },
      "source": [
        "kf = KFold()"
      ],
      "execution_count": null,
      "outputs": []
    },
    {
      "cell_type": "code",
      "metadata": {
        "id": "OVdZ7-qQC81t",
        "colab_type": "code",
        "colab": {
          "base_uri": "https://localhost:8080/",
          "height": 51
        },
        "outputId": "5bbf0436-83d6-4a52-bef0-25a8b0ef2c91"
      },
      "source": [
        "from sklearn.ensemble import GradientBoostingClassifier\n",
        "from xgboost import XGBClassifier\n",
        "from sklearn import model_selection\n",
        "\n",
        "num_trees = 100\n",
        "\n",
        "kfold = model_selection.StratifiedKFold(n_splits=10)\n",
        "model = GradientBoostingClassifier(n_estimators=num_trees, random_state=42)\n",
        "results = model_selection.cross_val_score(model, X, y.values.ravel(), cv=kfold)\n",
        "print(\"kafulds\")\n",
        "print(\"Acurácia GBC: {}%\".format(round(results.mean()*100, 2)))"
      ],
      "execution_count": null,
      "outputs": [
        {
          "output_type": "stream",
          "text": [
            "kafulds\n",
            "Acurácia GBC: 81.07%\n"
          ],
          "name": "stdout"
        }
      ]
    },
    {
      "cell_type": "code",
      "metadata": {
        "id": "roIytlLrDZ3N",
        "colab_type": "code",
        "colab": {}
      },
      "source": [
        ""
      ],
      "execution_count": null,
      "outputs": []
    }
  ]
}