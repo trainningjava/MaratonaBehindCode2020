{
  "nbformat": 4,
  "nbformat_minor": 0,
  "metadata": {
    "colab": {
      "name": "Extract text to json format.ipynb",
      "provenance": [],
      "collapsed_sections": []
    },
    "kernelspec": {
      "name": "python3",
      "display_name": "Python 3"
    }
  },
  "cells": [
    {
      "cell_type": "code",
      "metadata": {
        "id": "KeVT-Vl6yNxw",
        "colab_type": "code",
        "colab": {}
      },
      "source": [
        "import urllib.request \n"
      ],
      "execution_count": 53,
      "outputs": []
    },
    {
      "cell_type": "code",
      "metadata": {
        "id": "_IDtVYXbycte",
        "colab_type": "code",
        "colab": {
          "base_uri": "https://localhost:8080/",
          "height": 134
        },
        "outputId": "49a2cc9c-0859-4e4f-fea4-7a1c16e3183e"
      },
      "source": [
        "pip install inscriptis"
      ],
      "execution_count": 54,
      "outputs": [
        {
          "output_type": "stream",
          "text": [
            "Requirement already satisfied: inscriptis in /usr/local/lib/python3.6/dist-packages (1.1)\n",
            "Requirement already satisfied: requests in /usr/local/lib/python3.6/dist-packages (from inscriptis) (2.23.0)\n",
            "Requirement already satisfied: lxml in /usr/local/lib/python3.6/dist-packages (from inscriptis) (4.2.6)\n",
            "Requirement already satisfied: idna<3,>=2.5 in /usr/local/lib/python3.6/dist-packages (from requests->inscriptis) (2.10)\n",
            "Requirement already satisfied: urllib3!=1.25.0,!=1.25.1,<1.26,>=1.21.1 in /usr/local/lib/python3.6/dist-packages (from requests->inscriptis) (1.24.3)\n",
            "Requirement already satisfied: certifi>=2017.4.17 in /usr/local/lib/python3.6/dist-packages (from requests->inscriptis) (2020.6.20)\n",
            "Requirement already satisfied: chardet<4,>=3.0.2 in /usr/local/lib/python3.6/dist-packages (from requests->inscriptis) (3.0.4)\n"
          ],
          "name": "stdout"
        }
      ]
    },
    {
      "cell_type": "code",
      "metadata": {
        "id": "raiJtOdsyQdc",
        "colab_type": "code",
        "colab": {}
      },
      "source": [
        "from inscriptis import get_text "
      ],
      "execution_count": 55,
      "outputs": []
    },
    {
      "cell_type": "code",
      "metadata": {
        "id": "RkwWCZA7yohE",
        "colab_type": "code",
        "colab": {}
      },
      "source": [
        "#url = \"https://www.startse.com/noticia/startups/mobtech/deep-learning-o-cerebro-dos-carros-autonomos\"  "
      ],
      "execution_count": 56,
      "outputs": []
    },
    {
      "cell_type": "code",
      "metadata": {
        "id": "WHGji4L0II1b",
        "colab_type": "code",
        "colab": {}
      },
      "source": [
        "#@title Raw fields\n",
        "\n",
        "url = \"https://www.startse.com/noticia/startups/mobtech/deep-learning-o-cerebro-dos-carros-autonomos\" #@param {type:\"raw\"}\n",
        "pageFormat1 = \"UTF-8\" #@param [\"UTF-8\", \"ISO-8859-1\"]\n"
      ],
      "execution_count": 57,
      "outputs": []
    },
    {
      "cell_type": "code",
      "metadata": {
        "id": "q2CG_5-x3cCn",
        "colab_type": "code",
        "colab": {}
      },
      "source": [
        ""
      ],
      "execution_count": 58,
      "outputs": []
    },
    {
      "cell_type": "code",
      "metadata": {
        "id": "H99e0DTMyz3g",
        "colab_type": "code",
        "colab": {}
      },
      "source": [
        "html = urllib.request.urlopen(url).read().decode(pageFormat1) #decode('ISO-8859-1')\n",
        "text = get_text(html) "
      ],
      "execution_count": 59,
      "outputs": []
    },
    {
      "cell_type": "code",
      "metadata": {
        "id": "7ogeT4ZWFOYc",
        "colab_type": "code",
        "colab": {
          "base_uri": "https://localhost:8080/",
          "height": 1000
        },
        "outputId": "c41fac3b-05d8-4053-faca-524053dd61b4"
      },
      "source": [
        "print(text)"
      ],
      "execution_count": 60,
      "outputs": [
        {
          "output_type": "stream",
          "text": [
            "                * Nossos Cursos\n",
            "                * Notícias\n",
            "                * Startups\n",
            "                * Empreendedores\n",
            "                * Nova Economia\n",
            "                * Ecossistema\n",
            "            * Materiais Gratuitos\n",
            "            * Podcasts\n",
            "            * Webinários\n",
            "            * E-books\n",
            "            * Videos\n",
            "            * Colunistas\n",
            "            * Sobre Nós\n",
            "            * Quem Somos\n",
            "            * Novos Começos\n",
            "            * JA Startup Online\n",
            "          Startse.com > Notícias > Startups > Mobtech\n",
            "\n",
            "          Deep Learning: conheça o cérebro dos carros autônomos\n",
            "\n",
            "\n",
            "              Por Isabella Câmara\n",
            "\n",
            "\n",
            "              27 de agosto de 2018 às 10:38 - Atualizado há 2 anos\n",
            "\n",
            "\n",
            "          GRATUITO, 100% ONLINE E AO VIVO\n",
            "\n",
            "\n",
            "            Inscreva-se para o Maior Programa de Capacitação GRATUITO para empresários, gestores, empreendedores e profissionais que desejam reduzir os impactos da Crise em 2020\n",
            "\n",
            "\n",
            "              Atualmente, os carros autônomos são alvo de muita curiosidade e, de acordo com João Paulo Navarro, arquiteto de soluções com foco em Deep Learning e computação de alto-desempenho da NVIDIA , suas vantagens falam por si só. Diferente dos humanos, o carro autônomo é capaz de pensar com mais agilidade e tomar decisões de forma rápida, enxerga de modo periférico e não enfrenta os principais obstáculos do trânsito – cansaço, distração, imprudência e consumo de álcool causam a morte de cerca de 1,25 milhão de pessoas todos os anos no mundo, de acordo com a Organização Mundial da Saúde.\n",
            "\n",
            "\n",
            "              Frente a esse cenário, João Paulo acredita que o carro autônomo é a resposta para resolver o problema do trânsito. Porém, antes de colocar os veículos para rodarem nas ruas, é necessário treinar a máquina com base no mais novo programa de rede neural, o deep learning, que se assemelha a um cérebro humano. A ideia dessa nova tecnologia é fazer com que o carro visualiza o mundo real e reconhece obstáculos no meio do caminho antes de tomar qualquer decisão. “Mas não é somente ver, é entender o que está por trás daquilo para tomar decisões mais seguras. Uma imagem é composta de reflexos de luz, representados no computador em forma de número, mas, se eu quero identificar que determinado objeto é uma pessoa eu preciso extrair o sentido por trás da imagem, e o número não é o suficiente”, explica Navarro no Mobility Day 2018.\n",
            "\n",
            "\n",
            "              “Se queremos máquinas para pensar, precisamos ensiná-las a ver”, disse Fei-Fei Li, uma das principais cientistas da Universidade de Stanford – e João Paulo revela que é nesta frase que está a verdadeira essência do deep learning. Diferente de uma tecnologia de reconhecimento visual tradicional, a deep learning permite que a máquina aprenda novos objetos a partir de um treinamento, o que a faz realmente enxergar. “Algoritmos baseados em regra não são a solução para os carros autônomos”, afirma. Para ele, “não basta identificar itens classificados por uma forma padrão de cachorro”, por exemplo, porque no mundo real eles não estarão visíveis de uma forma padronizada, “são infinitas combinações de cachorros que a máquina precisa reconhecer”, explica.\n",
            "\n",
            "\n",
            "              Por outro lado, com a deep learning, os engenheiros não precisaram descrever todas as características de um cachorro. “Eles passarão imagens para a máquina e ela aprenderá quais são os padrões fundamentais da imagem para, futuramente, identificá-los em outras situações de uma maneira curada”, explica. Dessa forma, os carros autônomos serão dotados de um “cérebro”, o que os tornará capazes de discernir se será necessário diminuir a velocidade devido a um cachorro em potencial no meio da rua ou seguir seu caminho caso o animal esteja fora de sua rota.\n",
            "\n",
            "\n",
            "              Carros autônomos e deep learning no Brasil\n",
            "\n",
            "\n",
            "              Atualmente, já existem diversos projetos no Brasil envolvendo a construção de carros autônomos – a maioria das iniciativas, apesar dos cortes que o governo fez em verbas para pesquisa e ciência, acontecem dentro das próprias universidades, diz Navarro. O Iara (Intelligent Autonomous Robotic Automobile) nasceu de um projeto da Universidade Federal do Espírito Santo e, hoje, é um dos primeiros veículos autônomos brasileiros a trafegar em vias urbanas e em rodovias.\n",
            "\n",
            "\n",
            "              De acordo com o arquiteto da NVIDIA, apesar dos projetos brasileiros estarem se tornando realidade, ainda serão necessários de 5 a 10 anos para que um carro autônomo saia do meio acadêmico e seja implantado em larga escala no país. Um dos grandes obstáculos – e causadores dessa demora relativa -, segundo ele, é em relação às especificidades do mercado brasileiro. “Trazer fabricantes e empresas com interesse em desenvolver carros autônomos aqui é o grande desafio. Um veículo autônomo treinado para as estradas da Califórnia, não é o ideal para o Brasil. Precisamos desenvolver a tecnologia aqui, trazendo o mercado ou gerando empresas no próprio país para montar um modelo adequado a nossa realidade”, conclui.\n",
            "\n",
            "\n",
            "              *Foto: Eduardo Viana\n",
            "\n",
            "\n",
            "                Compartilhe em sua rede:\n",
            "\n",
            "\n",
            "                Comentários\n",
            "\n",
            "\n",
            "          GRATUITO, 100% ONLINE E AO VIVO\n",
            "\n",
            "\n",
            "            Inscreva-se para o Maior Programa de Capacitação GRATUITO para empresários, gestores, empreendedores e profissionais que desejam reduzir os impactos da Crise em 2020\n",
            "\n",
            "\n",
            "            Notícias relacionadas\n",
            "\n",
            "\n",
            "                  Mobtech\n",
            "\n",
            "                  há 2 anos\n",
            "\n",
            "                Lime, startup de scooters elétricas, estrea linha de carros compartilháveis\n",
            "\n",
            "\n",
            "                As corridas no LimePod custarão US$ 1 para…\n",
            "\n",
            "\n",
            "                  Corporate\n",
            "\n",
            "                  há 2 anos\n",
            "\n",
            "                Ford compra Spin, de patinetes elétricos, por US$ 100 milhões\n",
            "\n",
            "\n",
            "                Aquisição faz parte da estratégia da montadora de…\n",
            "\n",
            "\n",
            "                  Mobtech\n",
            "\n",
            "                  há 2 anos\n",
            "\n",
            "                Grab recebe aporte de US$ 200 milhões da Booking\n",
            "\n",
            "\n",
            "                O aporte financeiro é parte de uma rodada…\n",
            "\n",
            "            Carregar mais notícias\n",
            "\n",
            "              Conteúdos Recomendados\n",
            "\n",
            "\n",
            "                #1\n",
            "\n",
            "\n",
            "                A carreira começa aos 50!\n",
            "\n",
            "\n",
            "                #2\n",
            "\n",
            "\n",
            "                Da transformação digital ao R$1 bilhão de lucro: a trajetória do Magazine Luiza\n",
            "\n",
            "\n",
            "                #3\n",
            "\n",
            "\n",
            "                As lições das empresas do Vale do Silício para enfrentar a crise do COVID-19\n",
            "\n",
            "\n",
            "          Todos os direitos reservados © startse.com\n",
            "\n",
            "            Atendimento (De Segunda a Sexta, das 10hs às 18hs): (011) 94465-9807 / 99593-1524 / 95075-9513 / 93341-2882\n",
            "\n",
            "          São Paulo, Brasil\n",
            "\n",
            "\n",
            "          Palo Alto, EUA\n",
            "\n",
            "\n",
            "          Shanghai, China.\n",
            "\n",
            "\n",
            "                Notícias\n",
            "\n",
            "                  * Startups\n",
            "                  * Nova Economia\n",
            "                  * Empreendedores\n",
            "                  * Ecossistema\n",
            "\n",
            "                Cursos\n",
            "\n",
            "                  * Cursos Online\n",
            "                  * Eventos e Conferências\n",
            "                  * Programas Internacionais\n",
            "                  * Educação Executiva\n",
            "\n",
            "                Materiais Gratuitos\n",
            "\n",
            "                  * Podcasts\n",
            "                  * E-books\n",
            "                  * Webinários\n",
            "                  * Videos\n",
            "                Startups\n",
            "                  * Seleção de Startups\n",
            "                  * Banco de Startups\n",
            "\n",
            "            Baixe o nosso aplicativo e fique conectado:\n",
            "\n",
            "\n",
            "            Siga a StartSe nas Redes Sociais:\n",
            "\n",
            "\n",
            "            STARTSE TURISMO DE NEGOCIOS LTDA CPNJ: 32.291.526/0001-64\n",
            "\n",
            "\n",
            "            STARTSE INFORMAÇÕES E SISTEMAS S/A: CNPJ: 24.554.736/0002-50 CNPJ: 24.554.736/0001-70\n",
            "\n",
            "            Política de Privacidade e Termos\n",
            "          PT-BR\n"
          ],
          "name": "stdout"
        }
      ]
    },
    {
      "cell_type": "code",
      "metadata": {
        "id": "AFRCp4DhD5pv",
        "colab_type": "code",
        "colab": {}
      },
      "source": [
        "text = text.replace('\"','\\\\\"')"
      ],
      "execution_count": 61,
      "outputs": []
    },
    {
      "cell_type": "code",
      "metadata": {
        "id": "dnOrqRo9D51A",
        "colab_type": "code",
        "colab": {}
      },
      "source": [
        "text = text.replace('\\n', '\\\\n')"
      ],
      "execution_count": 62,
      "outputs": []
    },
    {
      "cell_type": "code",
      "metadata": {
        "id": "gGIT-bDAExE6",
        "colab_type": "code",
        "colab": {}
      },
      "source": [
        "text = ' '.join(text.split())"
      ],
      "execution_count": 63,
      "outputs": []
    },
    {
      "cell_type": "code",
      "metadata": {
        "id": "c6IvWgugd9HD",
        "colab_type": "code",
        "colab": {}
      },
      "source": [
        "text = text.replace('\\\\n\\\\n\\\\n', '\\\\n\\\\n')"
      ],
      "execution_count": 64,
      "outputs": []
    },
    {
      "cell_type": "code",
      "metadata": {
        "id": "tVfmhWKDy07b",
        "colab_type": "code",
        "colab": {
          "base_uri": "https://localhost:8080/",
          "height": 54
        },
        "outputId": "7413712a-3558-4f0d-fdc1-34b30823c7f6"
      },
      "source": [
        "print (text)"
      ],
      "execution_count": 65,
      "outputs": [
        {
          "output_type": "stream",
          "text": [
            "* Nossos Cursos\\n * Notícias\\n * Startups\\n * Empreendedores\\n * Nova Economia\\n * Ecossistema\\n * Materiais Gratuitos\\n * Podcasts\\n * Webinários\\n * E-books\\n * Videos\\n * Colunistas\\n * Sobre Nós\\n * Quem Somos\\n * Novos Começos\\n * JA Startup Online\\n Startse.com > Notícias > Startups > Mobtech\\n\\n Deep Learning: conheça o cérebro dos carros autônomos\\n\\n Por Isabella Câmara\\n\\n 27 de agosto de 2018 às 10:38 - Atualizado há 2 anos\\n\\n GRATUITO, 100% ONLINE E AO VIVO\\n\\n Inscreva-se para o Maior Programa de Capacitação GRATUITO para empresários, gestores, empreendedores e profissionais que desejam reduzir os impactos da Crise em 2020\\n\\n Atualmente, os carros autônomos são alvo de muita curiosidade e, de acordo com João Paulo Navarro, arquiteto de soluções com foco em Deep Learning e computação de alto-desempenho da NVIDIA , suas vantagens falam por si só. Diferente dos humanos, o carro autônomo é capaz de pensar com mais agilidade e tomar decisões de forma rápida, enxerga de modo periférico e não enfrenta os principais obstáculos do trânsito – cansaço, distração, imprudência e consumo de álcool causam a morte de cerca de 1,25 milhão de pessoas todos os anos no mundo, de acordo com a Organização Mundial da Saúde.\\n\\n Frente a esse cenário, João Paulo acredita que o carro autônomo é a resposta para resolver o problema do trânsito. Porém, antes de colocar os veículos para rodarem nas ruas, é necessário treinar a máquina com base no mais novo programa de rede neural, o deep learning, que se assemelha a um cérebro humano. A ideia dessa nova tecnologia é fazer com que o carro visualiza o mundo real e reconhece obstáculos no meio do caminho antes de tomar qualquer decisão. “Mas não é somente ver, é entender o que está por trás daquilo para tomar decisões mais seguras. Uma imagem é composta de reflexos de luz, representados no computador em forma de número, mas, se eu quero identificar que determinado objeto é uma pessoa eu preciso extrair o sentido por trás da imagem, e o número não é o suficiente”, explica Navarro no Mobility Day 2018.\\n\\n “Se queremos máquinas para pensar, precisamos ensiná-las a ver”, disse Fei-Fei Li, uma das principais cientistas da Universidade de Stanford – e João Paulo revela que é nesta frase que está a verdadeira essência do deep learning. Diferente de uma tecnologia de reconhecimento visual tradicional, a deep learning permite que a máquina aprenda novos objetos a partir de um treinamento, o que a faz realmente enxergar. “Algoritmos baseados em regra não são a solução para os carros autônomos”, afirma. Para ele, “não basta identificar itens classificados por uma forma padrão de cachorro”, por exemplo, porque no mundo real eles não estarão visíveis de uma forma padronizada, “são infinitas combinações de cachorros que a máquina precisa reconhecer”, explica.\\n\\n Por outro lado, com a deep learning, os engenheiros não precisaram descrever todas as características de um cachorro. “Eles passarão imagens para a máquina e ela aprenderá quais são os padrões fundamentais da imagem para, futuramente, identificá-los em outras situações de uma maneira curada”, explica. Dessa forma, os carros autônomos serão dotados de um “cérebro”, o que os tornará capazes de discernir se será necessário diminuir a velocidade devido a um cachorro em potencial no meio da rua ou seguir seu caminho caso o animal esteja fora de sua rota.\\n\\n Carros autônomos e deep learning no Brasil\\n\\n Atualmente, já existem diversos projetos no Brasil envolvendo a construção de carros autônomos – a maioria das iniciativas, apesar dos cortes que o governo fez em verbas para pesquisa e ciência, acontecem dentro das próprias universidades, diz Navarro. O Iara (Intelligent Autonomous Robotic Automobile) nasceu de um projeto da Universidade Federal do Espírito Santo e, hoje, é um dos primeiros veículos autônomos brasileiros a trafegar em vias urbanas e em rodovias.\\n\\n De acordo com o arquiteto da NVIDIA, apesar dos projetos brasileiros estarem se tornando realidade, ainda serão necessários de 5 a 10 anos para que um carro autônomo saia do meio acadêmico e seja implantado em larga escala no país. Um dos grandes obstáculos – e causadores dessa demora relativa -, segundo ele, é em relação às especificidades do mercado brasileiro. “Trazer fabricantes e empresas com interesse em desenvolver carros autônomos aqui é o grande desafio. Um veículo autônomo treinado para as estradas da Califórnia, não é o ideal para o Brasil. Precisamos desenvolver a tecnologia aqui, trazendo o mercado ou gerando empresas no próprio país para montar um modelo adequado a nossa realidade”, conclui.\\n\\n *Foto: Eduardo Viana\\n\\n Compartilhe em sua rede:\\n\\n Comentários\\n\\n GRATUITO, 100% ONLINE E AO VIVO\\n\\n Inscreva-se para o Maior Programa de Capacitação GRATUITO para empresários, gestores, empreendedores e profissionais que desejam reduzir os impactos da Crise em 2020\\n\\n Notícias relacionadas\\n\\n Mobtech\\n\\n há 2 anos\\n\\n Lime, startup de scooters elétricas, estrea linha de carros compartilháveis\\n\\n As corridas no LimePod custarão US$ 1 para…\\n\\n Corporate\\n\\n há 2 anos\\n\\n Ford compra Spin, de patinetes elétricos, por US$ 100 milhões\\n\\n Aquisição faz parte da estratégia da montadora de…\\n\\n Mobtech\\n\\n há 2 anos\\n\\n Grab recebe aporte de US$ 200 milhões da Booking\\n\\n O aporte financeiro é parte de uma rodada…\\n\\n Carregar mais notícias\\n\\n Conteúdos Recomendados\\n\\n #1\\n\\n A carreira começa aos 50!\\n\\n #2\\n\\n Da transformação digital ao R$1 bilhão de lucro: a trajetória do Magazine Luiza\\n\\n #3\\n\\n As lições das empresas do Vale do Silício para enfrentar a crise do COVID-19\\n\\n Todos os direitos reservados © startse.com\\n\\n Atendimento (De Segunda a Sexta, das 10hs às 18hs): (011) 94465-9807 / 99593-1524 / 95075-9513 / 93341-2882\\n\\n São Paulo, Brasil\\n\\n Palo Alto, EUA\\n\\n Shanghai, China.\\n\\n Notícias\\n\\n * Startups\\n * Nova Economia\\n * Empreendedores\\n * Ecossistema\\n\\n Cursos\\n\\n * Cursos Online\\n * Eventos e Conferências\\n * Programas Internacionais\\n * Educação Executiva\\n\\n Materiais Gratuitos\\n\\n * Podcasts\\n * E-books\\n * Webinários\\n * Videos\\n Startups\\n * Seleção de Startups\\n * Banco de Startups\\n\\n Baixe o nosso aplicativo e fique conectado:\\n\\n Siga a StartSe nas Redes Sociais:\\n\\n STARTSE TURISMO DE NEGOCIOS LTDA CPNJ: 32.291.526/0001-64\\n\\n STARTSE INFORMAÇÕES E SISTEMAS S/A: CNPJ: 24.554.736/0002-50 CNPJ: 24.554.736/0001-70\\n\\n Política de Privacidade e Termos\\n PT-BR\n"
          ],
          "name": "stdout"
        }
      ]
    }
  ]
}