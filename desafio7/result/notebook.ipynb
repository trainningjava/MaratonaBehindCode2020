{
  "nbformat": 4,
  "nbformat_minor": 0,
  "metadata": {
    "kernelspec": {
      "name": "python3",
      "display_name": "Python 3.6",
      "language": "python"
    },
    "language_info": {
      "name": "python",
      "version": "3.6.9",
      "mimetype": "text/x-python",
      "codemirror_mode": {
        "name": "ipython",
        "version": 3
      },
      "pygments_lexer": "ipython3",
      "nbconvert_exporter": "python",
      "file_extension": ".py"
    },
    "colab": {
      "name": "notebook.ipynb",
      "provenance": [],
      "toc_visible": true
    }
  },
  "cells": [
    {
      "cell_type": "code",
      "metadata": {
        "id": "X4X1Ztph0iQG",
        "colab_type": "code",
        "colab": {}
      },
      "source": [
        "# @hidden_cell\n",
        "# The project token is an authorization token that is used to access project resources like data sources, connections, and used by platform APIs.\n",
        "#from project_lib import Project\n",
        "#project = Project(project_id='a0de5f99-0388-41c4-88af-2c4b01bf83a8', project_access_token='p-0570537399dbbb84d46b415d15e56c326ea1077d')\n",
        "#pc = project.project_context\n"
      ],
      "execution_count": 49,
      "outputs": []
    },
    {
      "cell_type": "markdown",
      "metadata": {
        "collapsed": true,
        "id": "zt-Oi0ia0iQJ",
        "colab_type": "text"
      },
      "source": [
        "# MARATONA BEHIND THE CODE 2020\n",
        "\n",
        "## DESAFIO 7 - TNT"
      ]
    },
    {
      "cell_type": "markdown",
      "metadata": {
        "id": "rzUCwG9X0iQJ",
        "colab_type": "text"
      },
      "source": [
        "<hr>"
      ]
    },
    {
      "cell_type": "markdown",
      "metadata": {
        "id": "4yA2xMgb0iQK",
        "colab_type": "text"
      },
      "source": [
        "## Installing Libs"
      ]
    },
    {
      "cell_type": "code",
      "metadata": {
        "id": "Do4MO1fh0iQK",
        "colab_type": "code",
        "colab": {
          "base_uri": "https://localhost:8080/",
          "height": 108
        },
        "outputId": "9035a2cc-973d-4276-bb25-338fa52a054d"
      },
      "source": [
        "!pip install scikit-learn --upgrade"
      ],
      "execution_count": 50,
      "outputs": [
        {
          "output_type": "stream",
          "text": [
            "Requirement already up-to-date: scikit-learn in /usr/local/lib/python3.6/dist-packages (0.23.2)\n",
            "Requirement already satisfied, skipping upgrade: joblib>=0.11 in /usr/local/lib/python3.6/dist-packages (from scikit-learn) (0.16.0)\n",
            "Requirement already satisfied, skipping upgrade: scipy>=0.19.1 in /usr/local/lib/python3.6/dist-packages (from scikit-learn) (1.4.1)\n",
            "Requirement already satisfied, skipping upgrade: threadpoolctl>=2.0.0 in /usr/local/lib/python3.6/dist-packages (from scikit-learn) (2.1.0)\n",
            "Requirement already satisfied, skipping upgrade: numpy>=1.13.3 in /usr/local/lib/python3.6/dist-packages (from scikit-learn) (1.18.5)\n"
          ],
          "name": "stdout"
        }
      ]
    },
    {
      "cell_type": "code",
      "metadata": {
        "id": "HGUHHcmA0iQN",
        "colab_type": "code",
        "colab": {
          "base_uri": "https://localhost:8080/",
          "height": 72
        },
        "outputId": "ed1eddb0-55d1-4528-a16e-da2e91d03c77"
      },
      "source": [
        "!pip install xgboost --upgrade"
      ],
      "execution_count": 51,
      "outputs": [
        {
          "output_type": "stream",
          "text": [
            "Requirement already up-to-date: xgboost in /usr/local/lib/python3.6/dist-packages (1.2.0)\n",
            "Requirement already satisfied, skipping upgrade: scipy in /usr/local/lib/python3.6/dist-packages (from xgboost) (1.4.1)\n",
            "Requirement already satisfied, skipping upgrade: numpy in /usr/local/lib/python3.6/dist-packages (from xgboost) (1.18.5)\n"
          ],
          "name": "stdout"
        }
      ]
    },
    {
      "cell_type": "code",
      "metadata": {
        "id": "9mExbks70iQP",
        "colab_type": "code",
        "colab": {
          "base_uri": "https://localhost:8080/",
          "height": 165
        },
        "outputId": "9493196c-0e11-4afc-849f-400583d648b2"
      },
      "source": [
        "!pip install imblearn --upgrade"
      ],
      "execution_count": 52,
      "outputs": [
        {
          "output_type": "stream",
          "text": [
            "Requirement already up-to-date: imblearn in /usr/local/lib/python3.6/dist-packages (0.0)\n",
            "Requirement already satisfied, skipping upgrade: imbalanced-learn in /usr/local/lib/python3.6/dist-packages (from imblearn) (0.4.3)\n",
            "Requirement already satisfied, skipping upgrade: scikit-learn>=0.20 in /usr/local/lib/python3.6/dist-packages (from imbalanced-learn->imblearn) (0.23.2)\n",
            "Requirement already satisfied, skipping upgrade: numpy>=1.8.2 in /usr/local/lib/python3.6/dist-packages (from imbalanced-learn->imblearn) (1.18.5)\n",
            "Requirement already satisfied, skipping upgrade: scipy>=0.13.3 in /usr/local/lib/python3.6/dist-packages (from imbalanced-learn->imblearn) (1.4.1)\n",
            "Requirement already satisfied, skipping upgrade: threadpoolctl>=2.0.0 in /usr/local/lib/python3.6/dist-packages (from scikit-learn>=0.20->imbalanced-learn->imblearn) (2.1.0)\n",
            "Requirement already satisfied, skipping upgrade: joblib>=0.11 in /usr/local/lib/python3.6/dist-packages (from scikit-learn>=0.20->imbalanced-learn->imblearn) (0.16.0)\n"
          ],
          "name": "stdout"
        }
      ]
    },
    {
      "cell_type": "markdown",
      "metadata": {
        "id": "tzBNwK0E0iQR",
        "colab_type": "text"
      },
      "source": [
        "<hr>"
      ]
    },
    {
      "cell_type": "markdown",
      "metadata": {
        "id": "pTjTw4o30iQR",
        "colab_type": "text"
      },
      "source": [
        "## Download dos conjuntos de dados em formato .csv"
      ]
    },
    {
      "cell_type": "code",
      "metadata": {
        "id": "t3JRb9ui0iQR",
        "colab_type": "code",
        "colab": {}
      },
      "source": [
        "import pandas as pd"
      ],
      "execution_count": 53,
      "outputs": []
    },
    {
      "cell_type": "code",
      "metadata": {
        "id": "XUoDBrn80v9W",
        "colab_type": "code",
        "colab": {}
      },
      "source": [
        "# Insira aqui o pandasDataFrame.\n",
        "df_data_1 = pd.read_csv(r\"data.csv\")"
      ],
      "execution_count": 54,
      "outputs": []
    },
    {
      "cell_type": "code",
      "metadata": {
        "id": "QL-q4ZlA0iQT",
        "colab_type": "code",
        "colab": {
          "base_uri": "https://localhost:8080/",
          "height": 198
        },
        "outputId": "d15f0b04-d9fa-4944-f192-a5e6d473523f"
      },
      "source": [
        "#import types\n",
        "#import pandas as pd\n",
        "#from botocore.client import Config\n",
        "#import ibm_boto3\n",
        "\n",
        "#def __iter__(self): return 0\n",
        "\n",
        "# @hidden_cell\n",
        "# The following code accesses a file in your IBM Cloud Object Storage. It includes your credentials.\n",
        "# You might want to remove those credentials before you share the notebook.\n",
        "#client_11762540780043438f2403d5ab9fc242 = ibm_boto3.client(service_name='s3',\n",
        "#    ibm_api_key_id='_XTjiGhTShfZQlZOEfc2sd-7iO8NWZ_g-Pk5S9CgV_kU',\n",
        "#    ibm_auth_endpoint=\"https://iam.cloud.ibm.com/oidc/token\",\n",
        "#    config=Config(signature_version='oauth'),\n",
        "#    endpoint_url='https://s3-api.us-geo.objectstorage.service.networklayer.com')\n",
        "\n",
        "#body = client_11762540780043438f2403d5ab9fc242.get_object(Bucket='desafio7luiz-donotdelete-pr-eygl3d9j2l3de1',Key='ReceiveDataTNTt.csv')['Body']\n",
        "# add missing __iter__ method, so pandas accepts body as file-like object\n",
        "#if not hasattr(body, \"__iter__\"): body.__iter__ = types.MethodType( __iter__, body )\n",
        "\n",
        "#df_data_1 = pd.read_csv(body)\n",
        "df_data_1.head()\n"
      ],
      "execution_count": 55,
      "outputs": [
        {
          "output_type": "execute_result",
          "data": {
            "text/html": [
              "<div>\n",
              "<style scoped>\n",
              "    .dataframe tbody tr th:only-of-type {\n",
              "        vertical-align: middle;\n",
              "    }\n",
              "\n",
              "    .dataframe tbody tr th {\n",
              "        vertical-align: top;\n",
              "    }\n",
              "\n",
              "    .dataframe thead th {\n",
              "        text-align: right;\n",
              "    }\n",
              "</style>\n",
              "<table border=\"1\" class=\"dataframe\">\n",
              "  <thead>\n",
              "    <tr style=\"text-align: right;\">\n",
              "      <th></th>\n",
              "      <th>Tempo</th>\n",
              "      <th>Estação</th>\n",
              "      <th>LAT</th>\n",
              "      <th>LONG</th>\n",
              "      <th>Movimentação</th>\n",
              "      <th>Original_473</th>\n",
              "      <th>Original_269</th>\n",
              "      <th>Zero</th>\n",
              "      <th>Maçã-Verde</th>\n",
              "      <th>Tangerina</th>\n",
              "      <th>Citrus</th>\n",
              "      <th>Açaí-Guaraná</th>\n",
              "      <th>Pêssego</th>\n",
              "      <th>TARGET</th>\n",
              "    </tr>\n",
              "  </thead>\n",
              "  <tbody>\n",
              "    <tr>\n",
              "      <th>0</th>\n",
              "      <td>2019-5-23</td>\n",
              "      <td>Brooklin</td>\n",
              "      <td>-23.6263</td>\n",
              "      <td>-46.6878</td>\n",
              "      <td>27567</td>\n",
              "      <td>43</td>\n",
              "      <td>65</td>\n",
              "      <td>33</td>\n",
              "      <td>14</td>\n",
              "      <td>5</td>\n",
              "      <td>17</td>\n",
              "      <td>24</td>\n",
              "      <td>38</td>\n",
              "      <td>REABASTECER</td>\n",
              "    </tr>\n",
              "    <tr>\n",
              "      <th>1</th>\n",
              "      <td>2018-2-24</td>\n",
              "      <td>Campo Belo</td>\n",
              "      <td>-23.6188</td>\n",
              "      <td>-46.6823</td>\n",
              "      <td>26325</td>\n",
              "      <td>74</td>\n",
              "      <td>42</td>\n",
              "      <td>56</td>\n",
              "      <td>7</td>\n",
              "      <td>15</td>\n",
              "      <td>20</td>\n",
              "      <td>34</td>\n",
              "      <td>11</td>\n",
              "      <td>NORMAL</td>\n",
              "    </tr>\n",
              "    <tr>\n",
              "      <th>2</th>\n",
              "      <td>2018-3-11</td>\n",
              "      <td>Campo Belo</td>\n",
              "      <td>-23.6188</td>\n",
              "      <td>-46.6823</td>\n",
              "      <td>26829</td>\n",
              "      <td>74</td>\n",
              "      <td>65</td>\n",
              "      <td>58</td>\n",
              "      <td>12</td>\n",
              "      <td>28</td>\n",
              "      <td>11</td>\n",
              "      <td>7</td>\n",
              "      <td>34</td>\n",
              "      <td>NORMAL</td>\n",
              "    </tr>\n",
              "    <tr>\n",
              "      <th>3</th>\n",
              "      <td>2019-2-21</td>\n",
              "      <td>Brooklin</td>\n",
              "      <td>-23.6263</td>\n",
              "      <td>-46.6878</td>\n",
              "      <td>26600</td>\n",
              "      <td>86</td>\n",
              "      <td>19</td>\n",
              "      <td>39</td>\n",
              "      <td>10</td>\n",
              "      <td>35</td>\n",
              "      <td>19</td>\n",
              "      <td>9</td>\n",
              "      <td>22</td>\n",
              "      <td>NORMAL</td>\n",
              "    </tr>\n",
              "    <tr>\n",
              "      <th>4</th>\n",
              "      <td>2019-2-22</td>\n",
              "      <td>Brooklin</td>\n",
              "      <td>-23.6263</td>\n",
              "      <td>-46.6878</td>\n",
              "      <td>29046</td>\n",
              "      <td>74</td>\n",
              "      <td>16</td>\n",
              "      <td>32</td>\n",
              "      <td>8</td>\n",
              "      <td>29</td>\n",
              "      <td>13</td>\n",
              "      <td>6</td>\n",
              "      <td>16</td>\n",
              "      <td>NORMAL</td>\n",
              "    </tr>\n",
              "  </tbody>\n",
              "</table>\n",
              "</div>"
            ],
            "text/plain": [
              "       Tempo     Estação      LAT  ...  Açaí-Guaraná  Pêssego       TARGET\n",
              "0  2019-5-23    Brooklin -23.6263  ...            24       38  REABASTECER\n",
              "1  2018-2-24  Campo Belo -23.6188  ...            34       11       NORMAL\n",
              "2  2018-3-11  Campo Belo -23.6188  ...             7       34       NORMAL\n",
              "3  2019-2-21    Brooklin -23.6263  ...             9       22       NORMAL\n",
              "4  2019-2-22    Brooklin -23.6263  ...             6       16       NORMAL\n",
              "\n",
              "[5 rows x 14 columns]"
            ]
          },
          "metadata": {
            "tags": []
          },
          "execution_count": 55
        }
      ]
    },
    {
      "cell_type": "code",
      "metadata": {
        "id": "oBZMUWBF0iQW",
        "colab_type": "code",
        "colab": {
          "base_uri": "https://localhost:8080/",
          "height": 198
        },
        "outputId": "d7a6a832-0fd7-4143-eb06-cabd83cb7cd0"
      },
      "source": [
        "df_training_dataset = df_data_1\n",
        "df_training_dataset.tail()"
      ],
      "execution_count": 56,
      "outputs": [
        {
          "output_type": "execute_result",
          "data": {
            "text/html": [
              "<div>\n",
              "<style scoped>\n",
              "    .dataframe tbody tr th:only-of-type {\n",
              "        vertical-align: middle;\n",
              "    }\n",
              "\n",
              "    .dataframe tbody tr th {\n",
              "        vertical-align: top;\n",
              "    }\n",
              "\n",
              "    .dataframe thead th {\n",
              "        text-align: right;\n",
              "    }\n",
              "</style>\n",
              "<table border=\"1\" class=\"dataframe\">\n",
              "  <thead>\n",
              "    <tr style=\"text-align: right;\">\n",
              "      <th></th>\n",
              "      <th>Tempo</th>\n",
              "      <th>Estação</th>\n",
              "      <th>LAT</th>\n",
              "      <th>LONG</th>\n",
              "      <th>Movimentação</th>\n",
              "      <th>Original_473</th>\n",
              "      <th>Original_269</th>\n",
              "      <th>Zero</th>\n",
              "      <th>Maçã-Verde</th>\n",
              "      <th>Tangerina</th>\n",
              "      <th>Citrus</th>\n",
              "      <th>Açaí-Guaraná</th>\n",
              "      <th>Pêssego</th>\n",
              "      <th>TARGET</th>\n",
              "    </tr>\n",
              "  </thead>\n",
              "  <tbody>\n",
              "    <tr>\n",
              "      <th>5452</th>\n",
              "      <td>2019-2-17</td>\n",
              "      <td>Vila Mariana</td>\n",
              "      <td>-23.5895</td>\n",
              "      <td>-46.6346</td>\n",
              "      <td>21832</td>\n",
              "      <td>46</td>\n",
              "      <td>8</td>\n",
              "      <td>40</td>\n",
              "      <td>13</td>\n",
              "      <td>18</td>\n",
              "      <td>32</td>\n",
              "      <td>21</td>\n",
              "      <td>3</td>\n",
              "      <td>REABASTECER</td>\n",
              "    </tr>\n",
              "    <tr>\n",
              "      <th>5453</th>\n",
              "      <td>2018-4-26</td>\n",
              "      <td>Tatuapé</td>\n",
              "      <td>-23.5402</td>\n",
              "      <td>-46.5765</td>\n",
              "      <td>68985</td>\n",
              "      <td>86</td>\n",
              "      <td>62</td>\n",
              "      <td>37</td>\n",
              "      <td>29</td>\n",
              "      <td>43</td>\n",
              "      <td>40</td>\n",
              "      <td>29</td>\n",
              "      <td>43</td>\n",
              "      <td>NORMAL</td>\n",
              "    </tr>\n",
              "    <tr>\n",
              "      <th>5454</th>\n",
              "      <td>2019-2-28</td>\n",
              "      <td>Vila Mariana</td>\n",
              "      <td>-23.5895</td>\n",
              "      <td>-46.6346</td>\n",
              "      <td>23315</td>\n",
              "      <td>24</td>\n",
              "      <td>65</td>\n",
              "      <td>29</td>\n",
              "      <td>22</td>\n",
              "      <td>18</td>\n",
              "      <td>39</td>\n",
              "      <td>14</td>\n",
              "      <td>4</td>\n",
              "      <td>NORMAL</td>\n",
              "    </tr>\n",
              "    <tr>\n",
              "      <th>5455</th>\n",
              "      <td>2019-3-9</td>\n",
              "      <td>Brooklin</td>\n",
              "      <td>-23.6263</td>\n",
              "      <td>-46.6878</td>\n",
              "      <td>30036</td>\n",
              "      <td>63</td>\n",
              "      <td>47</td>\n",
              "      <td>51</td>\n",
              "      <td>39</td>\n",
              "      <td>9</td>\n",
              "      <td>38</td>\n",
              "      <td>20</td>\n",
              "      <td>39</td>\n",
              "      <td>NORMAL</td>\n",
              "    </tr>\n",
              "    <tr>\n",
              "      <th>5456</th>\n",
              "      <td>2018-5-20</td>\n",
              "      <td>Tatuapé</td>\n",
              "      <td>-23.5402</td>\n",
              "      <td>-46.5765</td>\n",
              "      <td>69536</td>\n",
              "      <td>40</td>\n",
              "      <td>41</td>\n",
              "      <td>65</td>\n",
              "      <td>27</td>\n",
              "      <td>26</td>\n",
              "      <td>15</td>\n",
              "      <td>29</td>\n",
              "      <td>23</td>\n",
              "      <td>NORMAL</td>\n",
              "    </tr>\n",
              "  </tbody>\n",
              "</table>\n",
              "</div>"
            ],
            "text/plain": [
              "          Tempo       Estação      LAT  ...  Açaí-Guaraná  Pêssego       TARGET\n",
              "5452  2019-2-17  Vila Mariana -23.5895  ...            21        3  REABASTECER\n",
              "5453  2018-4-26       Tatuapé -23.5402  ...            29       43       NORMAL\n",
              "5454  2019-2-28  Vila Mariana -23.5895  ...            14        4       NORMAL\n",
              "5455   2019-3-9      Brooklin -23.6263  ...            20       39       NORMAL\n",
              "5456  2018-5-20       Tatuapé -23.5402  ...            29       23       NORMAL\n",
              "\n",
              "[5 rows x 14 columns]"
            ]
          },
          "metadata": {
            "tags": []
          },
          "execution_count": 56
        }
      ]
    },
    {
      "cell_type": "markdown",
      "metadata": {
        "id": "Xm0cfkeL0iQY",
        "colab_type": "text"
      },
      "source": [
        "Sobre o arquivo \"training_dataset.csv\", temos algumas informações gerais sobre os usuários do app do BanCoppel:\n",
        "\n",
        "**Tempo**\n",
        "\n",
        "**Estação**\n",
        "\n",
        "**LAT**\n",
        "\n",
        "**LONG**\n",
        "\n",
        "**Movimentação**\n",
        "\n",
        "**Original_473**\n",
        "\n",
        "**Original_269**\n",
        "\n",
        "**Zero**\n",
        "\n",
        "**Maçã-Verde**\n",
        "\n",
        "**Tangerina**\n",
        "\n",
        "**Citrus**\n",
        "\n",
        "**Açaí-Guaraná**\n",
        "\n",
        "**Pêssego**\n",
        "\n",
        "**TARGET**"
      ]
    },
    {
      "cell_type": "code",
      "metadata": {
        "id": "JHX8HoBQ0iQY",
        "colab_type": "code",
        "colab": {
          "base_uri": "https://localhost:8080/",
          "height": 399
        },
        "outputId": "99617e7f-8d8d-4bc8-ee3f-a53a910cdd57"
      },
      "source": [
        "df_training_dataset.head().info()"
      ],
      "execution_count": 57,
      "outputs": [
        {
          "output_type": "stream",
          "text": [
            "<class 'pandas.core.frame.DataFrame'>\n",
            "RangeIndex: 5 entries, 0 to 4\n",
            "Data columns (total 14 columns):\n",
            " #   Column        Non-Null Count  Dtype  \n",
            "---  ------        --------------  -----  \n",
            " 0   Tempo         5 non-null      object \n",
            " 1   Estação       5 non-null      object \n",
            " 2   LAT           5 non-null      float64\n",
            " 3   LONG          5 non-null      float64\n",
            " 4   Movimentação  5 non-null      int64  \n",
            " 5   Original_473  5 non-null      int64  \n",
            " 6   Original_269  5 non-null      int64  \n",
            " 7   Zero          5 non-null      int64  \n",
            " 8   Maçã-Verde    5 non-null      int64  \n",
            " 9   Tangerina     5 non-null      int64  \n",
            " 10  Citrus        5 non-null      int64  \n",
            " 11  Açaí-Guaraná  5 non-null      int64  \n",
            " 12  Pêssego       5 non-null      int64  \n",
            " 13  TARGET        5 non-null      object \n",
            "dtypes: float64(2), int64(9), object(3)\n",
            "memory usage: 688.0+ bytes\n"
          ],
          "name": "stdout"
        }
      ]
    },
    {
      "cell_type": "code",
      "metadata": {
        "id": "oGtoefMB0iQa",
        "colab_type": "code",
        "colab": {
          "base_uri": "https://localhost:8080/",
          "height": 290
        },
        "outputId": "62d80e6a-6e02-4b5a-e646-5a77fb098213"
      },
      "source": [
        "df_training_dataset.nunique()"
      ],
      "execution_count": 58,
      "outputs": [
        {
          "output_type": "execute_result",
          "data": {
            "text/plain": [
              "Tempo            716\n",
              "Estação           25\n",
              "LAT               25\n",
              "LONG              25\n",
              "Movimentação    4508\n",
              "Original_473      81\n",
              "Original_269      65\n",
              "Zero              63\n",
              "Maçã-Verde        43\n",
              "Tangerina         42\n",
              "Citrus            43\n",
              "Açaí-Guaraná      42\n",
              "Pêssego           42\n",
              "TARGET             2\n",
              "dtype: int64"
            ]
          },
          "metadata": {
            "tags": []
          },
          "execution_count": 58
        }
      ]
    },
    {
      "cell_type": "markdown",
      "metadata": {
        "id": "KRTRNtZJ0iQd",
        "colab_type": "text"
      },
      "source": [
        "<hr>\n",
        "\n",
        "## Detalhamento do desafio: classificação binária\n",
        "\n",
        "Este é um desafio cujo objetivo de negócio é a segmentação dos usuários de aplicativo de um banco. Para tal, podemos utilizar duas abordagens: aprendizado de máquina supervisionado (classificação) ou não-supervisionado (clustering). Neste desafio será aplicada a classificação, pois é disponível um dataset já com \"labels\", ou em outras palavras, já com exemplos de dados juntamente com a variável alvo.\n",
        "\n",
        "Na biblioteca scikit-learn temos diversos algoritmos para classificação. O participante é livre para utilizar o framework que desejar para completar esse desafio.\n",
        "\n",
        "Neste notebook será mostrado um exeplo de uso do algoritmo \"Decision Tree\" para classificar parte dos estudantes em seis diferentes perfís."
      ]
    },
    {
      "cell_type": "markdown",
      "metadata": {
        "id": "CHgIw-XX0iQd",
        "colab_type": "text"
      },
      "source": [
        "# Atenção!\n",
        "\n",
        "A coluna-alvo neste desafio é a coluna ``TARGET``"
      ]
    },
    {
      "cell_type": "code",
      "metadata": {
        "id": "PRdNxw7o0iQe",
        "colab_type": "code",
        "colab": {
          "base_uri": "https://localhost:8080/",
          "height": 90
        },
        "outputId": "871dc872-c95f-4e32-ce5c-5d8d4a271614"
      },
      "source": [
        "print(\"Informações Sobre o Dataset\")\n",
        "print(\"Variáveis:\\t {}\".format(df_training_dataset.shape[1]))\n",
        "print(\"Entradas:\\t {}\\n\".format(df_training_dataset.shape[0]))"
      ],
      "execution_count": 59,
      "outputs": [
        {
          "output_type": "stream",
          "text": [
            "Informações Sobre o Dataset\n",
            "Variáveis:\t 14\n",
            "Entradas:\t 5457\n",
            "\n"
          ],
          "name": "stdout"
        }
      ]
    },
    {
      "cell_type": "code",
      "metadata": {
        "id": "9PDoPO3J0iQg",
        "colab_type": "code",
        "colab": {
          "base_uri": "https://localhost:8080/",
          "height": 168
        },
        "outputId": "1ed93e23-822c-40f0-85d4-0f8fc80c900a"
      },
      "source": [
        "# distribuição estatística das variáveis categóricas\n",
        "df_training_dataset.describe(include='O')"
      ],
      "execution_count": 60,
      "outputs": [
        {
          "output_type": "execute_result",
          "data": {
            "text/html": [
              "<div>\n",
              "<style scoped>\n",
              "    .dataframe tbody tr th:only-of-type {\n",
              "        vertical-align: middle;\n",
              "    }\n",
              "\n",
              "    .dataframe tbody tr th {\n",
              "        vertical-align: top;\n",
              "    }\n",
              "\n",
              "    .dataframe thead th {\n",
              "        text-align: right;\n",
              "    }\n",
              "</style>\n",
              "<table border=\"1\" class=\"dataframe\">\n",
              "  <thead>\n",
              "    <tr style=\"text-align: right;\">\n",
              "      <th></th>\n",
              "      <th>Tempo</th>\n",
              "      <th>Estação</th>\n",
              "      <th>TARGET</th>\n",
              "    </tr>\n",
              "  </thead>\n",
              "  <tbody>\n",
              "    <tr>\n",
              "      <th>count</th>\n",
              "      <td>5457</td>\n",
              "      <td>5457</td>\n",
              "      <td>5457</td>\n",
              "    </tr>\n",
              "    <tr>\n",
              "      <th>unique</th>\n",
              "      <td>716</td>\n",
              "      <td>25</td>\n",
              "      <td>2</td>\n",
              "    </tr>\n",
              "    <tr>\n",
              "      <th>top</th>\n",
              "      <td>2019-2-28</td>\n",
              "      <td>Pinheiros</td>\n",
              "      <td>NORMAL</td>\n",
              "    </tr>\n",
              "    <tr>\n",
              "      <th>freq</th>\n",
              "      <td>25</td>\n",
              "      <td>434</td>\n",
              "      <td>3653</td>\n",
              "    </tr>\n",
              "  </tbody>\n",
              "</table>\n",
              "</div>"
            ],
            "text/plain": [
              "            Tempo    Estação  TARGET\n",
              "count        5457       5457    5457\n",
              "unique        716         25       2\n",
              "top     2019-2-28  Pinheiros  NORMAL\n",
              "freq           25        434    3653"
            ]
          },
          "metadata": {
            "tags": []
          },
          "execution_count": 60
        }
      ]
    },
    {
      "cell_type": "code",
      "metadata": {
        "id": "DO0hWgy50iQi",
        "colab_type": "code",
        "colab": {}
      },
      "source": [
        ""
      ],
      "execution_count": 60,
      "outputs": []
    },
    {
      "cell_type": "markdown",
      "metadata": {
        "id": "YZPVUQZC0iQj",
        "colab_type": "text"
      },
      "source": [
        "## Pre-processando o dataset antes do treinamento"
      ]
    },
    {
      "cell_type": "markdown",
      "metadata": {
        "id": "8cSFHI4a0iQk",
        "colab_type": "text"
      },
      "source": [
        "### Processando valores NaN com o SimpleImputer do sklearn\n",
        "\n",
        "Para os valores NaN, usaremos a substituição pela constante 0 como **exemplo**.\n",
        "\n",
        "Você pode escolher a estratégia que achar melhor para tratar os valores nulos :)\n",
        "\n",
        "Docs: https://scikit-learn.org/stable/modules/generated/sklearn.impute.SimpleImputer.html?highlight=simpleimputer#sklearn.impute.SimpleImputer"
      ]
    },
    {
      "cell_type": "code",
      "metadata": {
        "id": "KYeQpKC-0iQk",
        "colab_type": "code",
        "colab": {}
      },
      "source": [
        "from sklearn.impute import SimpleImputer\n",
        "import numpy as np\n",
        "\n",
        "\n",
        "impute_zeros = SimpleImputer(\n",
        "    missing_values=np.nan,\n",
        "    strategy='constant',\n",
        "    fill_value=0,\n",
        "    verbose=0,\n",
        "    copy=True\n",
        ")"
      ],
      "execution_count": 61,
      "outputs": []
    },
    {
      "cell_type": "code",
      "metadata": {
        "id": "h56zA4SB0iQm",
        "colab_type": "code",
        "colab": {
          "base_uri": "https://localhost:8080/",
          "height": 672
        },
        "outputId": "baac7e42-4392-4be1-eeb6-626d78f4897a"
      },
      "source": [
        "# Exibindo os dados ausentes do conjunto de dados antes da primeira transformação (df)\n",
        "print(\"Valores nulos no df_training_dataset antes da transformação SimpleImputer: \\n\\n{}\\n\".format(df_training_dataset.isnull().sum(axis = 0)))\n",
        "\n",
        "# Aplicando a transformação ``SimpleImputer`` no conjunto de dados base\n",
        "impute_zeros.fit(X=df_training_dataset)\n",
        "\n",
        "# Reconstruindo um Pandas DataFrame com os resultados\n",
        "df_training_dataset_imputed = pd.DataFrame.from_records(\n",
        "    data=impute_zeros.transform(\n",
        "        X=df_training_dataset\n",
        "    ),\n",
        "    columns=df_training_dataset.columns\n",
        ")\n",
        "\n",
        "# Exibindo os dados ausentes do conjunto de dados após a primeira transformação (df)\n",
        "print(\"Valores nulos no df_training_dataset após a transformação SimpleImputer: \\n\\n{}\\n\".format(df_training_dataset_imputed.isnull().sum(axis = 0)))"
      ],
      "execution_count": 62,
      "outputs": [
        {
          "output_type": "stream",
          "text": [
            "Valores nulos no df_training_dataset antes da transformação SimpleImputer: \n",
            "\n",
            "Tempo           0\n",
            "Estação         0\n",
            "LAT             0\n",
            "LONG            0\n",
            "Movimentação    0\n",
            "Original_473    0\n",
            "Original_269    0\n",
            "Zero            0\n",
            "Maçã-Verde      0\n",
            "Tangerina       0\n",
            "Citrus          0\n",
            "Açaí-Guaraná    0\n",
            "Pêssego         0\n",
            "TARGET          0\n",
            "dtype: int64\n",
            "\n",
            "Valores nulos no df_training_dataset após a transformação SimpleImputer: \n",
            "\n",
            "Tempo           0\n",
            "Estação         0\n",
            "LAT             0\n",
            "LONG            0\n",
            "Movimentação    0\n",
            "Original_473    0\n",
            "Original_269    0\n",
            "Zero            0\n",
            "Maçã-Verde      0\n",
            "Tangerina       0\n",
            "Citrus          0\n",
            "Açaí-Guaraná    0\n",
            "Pêssego         0\n",
            "TARGET          0\n",
            "dtype: int64\n",
            "\n"
          ],
          "name": "stdout"
        }
      ]
    },
    {
      "cell_type": "markdown",
      "metadata": {
        "id": "vTefvaOW0iQo",
        "colab_type": "text"
      },
      "source": [
        "### Eliminando colunas indesejadas\n",
        "\n",
        "Vamos **demonstrar** abaixo como usar o método **DataFrame.drop()**.\n",
        "\n",
        "Docs: https://pandas.pydata.org/pandas-docs/stable/reference/api/pandas.DataFrame.drop.html"
      ]
    },
    {
      "cell_type": "code",
      "metadata": {
        "id": "jivvAYUK0iQp",
        "colab_type": "code",
        "colab": {
          "base_uri": "https://localhost:8080/",
          "height": 198
        },
        "outputId": "65ec1869-6aa8-41f9-bb2e-69447579d268"
      },
      "source": [
        "df_training_dataset_imputed.tail()"
      ],
      "execution_count": 63,
      "outputs": [
        {
          "output_type": "execute_result",
          "data": {
            "text/html": [
              "<div>\n",
              "<style scoped>\n",
              "    .dataframe tbody tr th:only-of-type {\n",
              "        vertical-align: middle;\n",
              "    }\n",
              "\n",
              "    .dataframe tbody tr th {\n",
              "        vertical-align: top;\n",
              "    }\n",
              "\n",
              "    .dataframe thead th {\n",
              "        text-align: right;\n",
              "    }\n",
              "</style>\n",
              "<table border=\"1\" class=\"dataframe\">\n",
              "  <thead>\n",
              "    <tr style=\"text-align: right;\">\n",
              "      <th></th>\n",
              "      <th>Tempo</th>\n",
              "      <th>Estação</th>\n",
              "      <th>LAT</th>\n",
              "      <th>LONG</th>\n",
              "      <th>Movimentação</th>\n",
              "      <th>Original_473</th>\n",
              "      <th>Original_269</th>\n",
              "      <th>Zero</th>\n",
              "      <th>Maçã-Verde</th>\n",
              "      <th>Tangerina</th>\n",
              "      <th>Citrus</th>\n",
              "      <th>Açaí-Guaraná</th>\n",
              "      <th>Pêssego</th>\n",
              "      <th>TARGET</th>\n",
              "    </tr>\n",
              "  </thead>\n",
              "  <tbody>\n",
              "    <tr>\n",
              "      <th>5452</th>\n",
              "      <td>2019-2-17</td>\n",
              "      <td>Vila Mariana</td>\n",
              "      <td>-23.5895</td>\n",
              "      <td>-46.6346</td>\n",
              "      <td>21832</td>\n",
              "      <td>46</td>\n",
              "      <td>8</td>\n",
              "      <td>40</td>\n",
              "      <td>13</td>\n",
              "      <td>18</td>\n",
              "      <td>32</td>\n",
              "      <td>21</td>\n",
              "      <td>3</td>\n",
              "      <td>REABASTECER</td>\n",
              "    </tr>\n",
              "    <tr>\n",
              "      <th>5453</th>\n",
              "      <td>2018-4-26</td>\n",
              "      <td>Tatuapé</td>\n",
              "      <td>-23.5402</td>\n",
              "      <td>-46.5765</td>\n",
              "      <td>68985</td>\n",
              "      <td>86</td>\n",
              "      <td>62</td>\n",
              "      <td>37</td>\n",
              "      <td>29</td>\n",
              "      <td>43</td>\n",
              "      <td>40</td>\n",
              "      <td>29</td>\n",
              "      <td>43</td>\n",
              "      <td>NORMAL</td>\n",
              "    </tr>\n",
              "    <tr>\n",
              "      <th>5454</th>\n",
              "      <td>2019-2-28</td>\n",
              "      <td>Vila Mariana</td>\n",
              "      <td>-23.5895</td>\n",
              "      <td>-46.6346</td>\n",
              "      <td>23315</td>\n",
              "      <td>24</td>\n",
              "      <td>65</td>\n",
              "      <td>29</td>\n",
              "      <td>22</td>\n",
              "      <td>18</td>\n",
              "      <td>39</td>\n",
              "      <td>14</td>\n",
              "      <td>4</td>\n",
              "      <td>NORMAL</td>\n",
              "    </tr>\n",
              "    <tr>\n",
              "      <th>5455</th>\n",
              "      <td>2019-3-9</td>\n",
              "      <td>Brooklin</td>\n",
              "      <td>-23.6263</td>\n",
              "      <td>-46.6878</td>\n",
              "      <td>30036</td>\n",
              "      <td>63</td>\n",
              "      <td>47</td>\n",
              "      <td>51</td>\n",
              "      <td>39</td>\n",
              "      <td>9</td>\n",
              "      <td>38</td>\n",
              "      <td>20</td>\n",
              "      <td>39</td>\n",
              "      <td>NORMAL</td>\n",
              "    </tr>\n",
              "    <tr>\n",
              "      <th>5456</th>\n",
              "      <td>2018-5-20</td>\n",
              "      <td>Tatuapé</td>\n",
              "      <td>-23.5402</td>\n",
              "      <td>-46.5765</td>\n",
              "      <td>69536</td>\n",
              "      <td>40</td>\n",
              "      <td>41</td>\n",
              "      <td>65</td>\n",
              "      <td>27</td>\n",
              "      <td>26</td>\n",
              "      <td>15</td>\n",
              "      <td>29</td>\n",
              "      <td>23</td>\n",
              "      <td>NORMAL</td>\n",
              "    </tr>\n",
              "  </tbody>\n",
              "</table>\n",
              "</div>"
            ],
            "text/plain": [
              "          Tempo       Estação      LAT  ...  Açaí-Guaraná  Pêssego       TARGET\n",
              "5452  2019-2-17  Vila Mariana -23.5895  ...            21        3  REABASTECER\n",
              "5453  2018-4-26       Tatuapé -23.5402  ...            29       43       NORMAL\n",
              "5454  2019-2-28  Vila Mariana -23.5895  ...            14        4       NORMAL\n",
              "5455   2019-3-9      Brooklin -23.6263  ...            20       39       NORMAL\n",
              "5456  2018-5-20       Tatuapé -23.5402  ...            29       23       NORMAL\n",
              "\n",
              "[5 rows x 14 columns]"
            ]
          },
          "metadata": {
            "tags": []
          },
          "execution_count": 63
        }
      ]
    },
    {
      "cell_type": "code",
      "metadata": {
        "id": "EEeVupf_0iQq",
        "colab_type": "code",
        "colab": {}
      },
      "source": [
        "df_training_dataset_rmcolumns = df_training_dataset_imputed.drop(columns=['Tempo', 'Estação', 'LAT', 'LONG', 'Movimentação'], inplace=False)"
      ],
      "execution_count": 64,
      "outputs": []
    },
    {
      "cell_type": "code",
      "metadata": {
        "id": "gb6pPtfu0iQs",
        "colab_type": "code",
        "colab": {
          "base_uri": "https://localhost:8080/",
          "height": 198
        },
        "outputId": "b8fb6131-ec16-4c88-e329-77c757264dfc"
      },
      "source": [
        "df_training_dataset_rmcolumns.tail()"
      ],
      "execution_count": 65,
      "outputs": [
        {
          "output_type": "execute_result",
          "data": {
            "text/html": [
              "<div>\n",
              "<style scoped>\n",
              "    .dataframe tbody tr th:only-of-type {\n",
              "        vertical-align: middle;\n",
              "    }\n",
              "\n",
              "    .dataframe tbody tr th {\n",
              "        vertical-align: top;\n",
              "    }\n",
              "\n",
              "    .dataframe thead th {\n",
              "        text-align: right;\n",
              "    }\n",
              "</style>\n",
              "<table border=\"1\" class=\"dataframe\">\n",
              "  <thead>\n",
              "    <tr style=\"text-align: right;\">\n",
              "      <th></th>\n",
              "      <th>Original_473</th>\n",
              "      <th>Original_269</th>\n",
              "      <th>Zero</th>\n",
              "      <th>Maçã-Verde</th>\n",
              "      <th>Tangerina</th>\n",
              "      <th>Citrus</th>\n",
              "      <th>Açaí-Guaraná</th>\n",
              "      <th>Pêssego</th>\n",
              "      <th>TARGET</th>\n",
              "    </tr>\n",
              "  </thead>\n",
              "  <tbody>\n",
              "    <tr>\n",
              "      <th>5452</th>\n",
              "      <td>46</td>\n",
              "      <td>8</td>\n",
              "      <td>40</td>\n",
              "      <td>13</td>\n",
              "      <td>18</td>\n",
              "      <td>32</td>\n",
              "      <td>21</td>\n",
              "      <td>3</td>\n",
              "      <td>REABASTECER</td>\n",
              "    </tr>\n",
              "    <tr>\n",
              "      <th>5453</th>\n",
              "      <td>86</td>\n",
              "      <td>62</td>\n",
              "      <td>37</td>\n",
              "      <td>29</td>\n",
              "      <td>43</td>\n",
              "      <td>40</td>\n",
              "      <td>29</td>\n",
              "      <td>43</td>\n",
              "      <td>NORMAL</td>\n",
              "    </tr>\n",
              "    <tr>\n",
              "      <th>5454</th>\n",
              "      <td>24</td>\n",
              "      <td>65</td>\n",
              "      <td>29</td>\n",
              "      <td>22</td>\n",
              "      <td>18</td>\n",
              "      <td>39</td>\n",
              "      <td>14</td>\n",
              "      <td>4</td>\n",
              "      <td>NORMAL</td>\n",
              "    </tr>\n",
              "    <tr>\n",
              "      <th>5455</th>\n",
              "      <td>63</td>\n",
              "      <td>47</td>\n",
              "      <td>51</td>\n",
              "      <td>39</td>\n",
              "      <td>9</td>\n",
              "      <td>38</td>\n",
              "      <td>20</td>\n",
              "      <td>39</td>\n",
              "      <td>NORMAL</td>\n",
              "    </tr>\n",
              "    <tr>\n",
              "      <th>5456</th>\n",
              "      <td>40</td>\n",
              "      <td>41</td>\n",
              "      <td>65</td>\n",
              "      <td>27</td>\n",
              "      <td>26</td>\n",
              "      <td>15</td>\n",
              "      <td>29</td>\n",
              "      <td>23</td>\n",
              "      <td>NORMAL</td>\n",
              "    </tr>\n",
              "  </tbody>\n",
              "</table>\n",
              "</div>"
            ],
            "text/plain": [
              "      Original_473  Original_269  Zero  ...  Açaí-Guaraná  Pêssego       TARGET\n",
              "5452            46             8    40  ...            21        3  REABASTECER\n",
              "5453            86            62    37  ...            29       43       NORMAL\n",
              "5454            24            65    29  ...            14        4       NORMAL\n",
              "5455            63            47    51  ...            20       39       NORMAL\n",
              "5456            40            41    65  ...            29       23       NORMAL\n",
              "\n",
              "[5 rows x 9 columns]"
            ]
          },
          "metadata": {
            "tags": []
          },
          "execution_count": 65
        }
      ]
    },
    {
      "cell_type": "code",
      "metadata": {
        "id": "m3m6I7zO0iQu",
        "colab_type": "code",
        "colab": {
          "base_uri": "https://localhost:8080/",
          "height": 288
        },
        "outputId": "e7a9288c-4bf8-482e-9392-eed1a287289d"
      },
      "source": [
        "df_training_dataset_rmcolumns.describe()"
      ],
      "execution_count": 66,
      "outputs": [
        {
          "output_type": "execute_result",
          "data": {
            "text/html": [
              "<div>\n",
              "<style scoped>\n",
              "    .dataframe tbody tr th:only-of-type {\n",
              "        vertical-align: middle;\n",
              "    }\n",
              "\n",
              "    .dataframe tbody tr th {\n",
              "        vertical-align: top;\n",
              "    }\n",
              "\n",
              "    .dataframe thead th {\n",
              "        text-align: right;\n",
              "    }\n",
              "</style>\n",
              "<table border=\"1\" class=\"dataframe\">\n",
              "  <thead>\n",
              "    <tr style=\"text-align: right;\">\n",
              "      <th></th>\n",
              "      <th>Original_473</th>\n",
              "      <th>Original_269</th>\n",
              "      <th>Zero</th>\n",
              "      <th>Maçã-Verde</th>\n",
              "      <th>Tangerina</th>\n",
              "      <th>Citrus</th>\n",
              "      <th>Açaí-Guaraná</th>\n",
              "      <th>Pêssego</th>\n",
              "    </tr>\n",
              "  </thead>\n",
              "  <tbody>\n",
              "    <tr>\n",
              "      <th>count</th>\n",
              "      <td>5457.000000</td>\n",
              "      <td>5457.000000</td>\n",
              "      <td>5457.000000</td>\n",
              "      <td>5457.000000</td>\n",
              "      <td>5457.000000</td>\n",
              "      <td>5457.000000</td>\n",
              "      <td>5457.000000</td>\n",
              "      <td>5457.000000</td>\n",
              "    </tr>\n",
              "    <tr>\n",
              "      <th>mean</th>\n",
              "      <td>46.896647</td>\n",
              "      <td>36.154480</td>\n",
              "      <td>35.712296</td>\n",
              "      <td>24.407916</td>\n",
              "      <td>23.630566</td>\n",
              "      <td>24.343595</td>\n",
              "      <td>23.852117</td>\n",
              "      <td>23.958036</td>\n",
              "    </tr>\n",
              "    <tr>\n",
              "      <th>std</th>\n",
              "      <td>25.385119</td>\n",
              "      <td>18.800888</td>\n",
              "      <td>19.400379</td>\n",
              "      <td>12.177812</td>\n",
              "      <td>12.252126</td>\n",
              "      <td>11.984982</td>\n",
              "      <td>12.438704</td>\n",
              "      <td>12.337146</td>\n",
              "    </tr>\n",
              "    <tr>\n",
              "      <th>min</th>\n",
              "      <td>0.000000</td>\n",
              "      <td>0.000000</td>\n",
              "      <td>0.000000</td>\n",
              "      <td>1.000000</td>\n",
              "      <td>1.000000</td>\n",
              "      <td>1.000000</td>\n",
              "      <td>1.000000</td>\n",
              "      <td>1.000000</td>\n",
              "    </tr>\n",
              "    <tr>\n",
              "      <th>25%</th>\n",
              "      <td>25.000000</td>\n",
              "      <td>20.000000</td>\n",
              "      <td>19.000000</td>\n",
              "      <td>14.000000</td>\n",
              "      <td>13.000000</td>\n",
              "      <td>14.000000</td>\n",
              "      <td>13.000000</td>\n",
              "      <td>13.000000</td>\n",
              "    </tr>\n",
              "    <tr>\n",
              "      <th>50%</th>\n",
              "      <td>47.000000</td>\n",
              "      <td>36.000000</td>\n",
              "      <td>36.000000</td>\n",
              "      <td>25.000000</td>\n",
              "      <td>24.000000</td>\n",
              "      <td>24.000000</td>\n",
              "      <td>24.000000</td>\n",
              "      <td>24.000000</td>\n",
              "    </tr>\n",
              "    <tr>\n",
              "      <th>75%</th>\n",
              "      <td>68.000000</td>\n",
              "      <td>53.000000</td>\n",
              "      <td>53.000000</td>\n",
              "      <td>35.000000</td>\n",
              "      <td>34.000000</td>\n",
              "      <td>35.000000</td>\n",
              "      <td>35.000000</td>\n",
              "      <td>35.000000</td>\n",
              "    </tr>\n",
              "    <tr>\n",
              "      <th>max</th>\n",
              "      <td>86.000000</td>\n",
              "      <td>65.000000</td>\n",
              "      <td>65.000000</td>\n",
              "      <td>43.000000</td>\n",
              "      <td>43.000000</td>\n",
              "      <td>43.000000</td>\n",
              "      <td>43.000000</td>\n",
              "      <td>43.000000</td>\n",
              "    </tr>\n",
              "  </tbody>\n",
              "</table>\n",
              "</div>"
            ],
            "text/plain": [
              "       Original_473  Original_269  ...  Açaí-Guaraná      Pêssego\n",
              "count   5457.000000   5457.000000  ...   5457.000000  5457.000000\n",
              "mean      46.896647     36.154480  ...     23.852117    23.958036\n",
              "std       25.385119     18.800888  ...     12.438704    12.337146\n",
              "min        0.000000      0.000000  ...      1.000000     1.000000\n",
              "25%       25.000000     20.000000  ...     13.000000    13.000000\n",
              "50%       47.000000     36.000000  ...     24.000000    24.000000\n",
              "75%       68.000000     53.000000  ...     35.000000    35.000000\n",
              "max       86.000000     65.000000  ...     43.000000    43.000000\n",
              "\n",
              "[8 rows x 8 columns]"
            ]
          },
          "metadata": {
            "tags": []
          },
          "execution_count": 66
        }
      ]
    },
    {
      "cell_type": "code",
      "metadata": {
        "id": "FA0agESg0iQw",
        "colab_type": "code",
        "colab": {
          "base_uri": "https://localhost:8080/",
          "height": 72
        },
        "outputId": "a0d2ac29-f8e1-4c17-e0a1-f2d9fbc663ac"
      },
      "source": [
        "df_training_dataset_rmcolumns['TARGET'].value_counts()"
      ],
      "execution_count": 67,
      "outputs": [
        {
          "output_type": "execute_result",
          "data": {
            "text/plain": [
              "NORMAL         3653\n",
              "REABASTECER    1804\n",
              "Name: TARGET, dtype: int64"
            ]
          },
          "metadata": {
            "tags": []
          },
          "execution_count": 67
        }
      ]
    },
    {
      "cell_type": "code",
      "metadata": {
        "id": "SICVTSqK0iQx",
        "colab_type": "code",
        "colab": {
          "base_uri": "https://localhost:8080/",
          "height": 610
        },
        "outputId": "881fad0a-544b-4fe4-f52d-f111c18a5f95"
      },
      "source": [
        "import seaborn as sns\n",
        "df_training_dataset_rmcolumns.hist(figsize=(15,10));\n",
        "sns.set()"
      ],
      "execution_count": 68,
      "outputs": [
        {
          "output_type": "display_data",
          "data": {
            "image/png": "[encoded data removed]",
            "text/plain": [
              "<Figure size 1080x720 with 9 Axes>"
            ]
          },
          "metadata": {
            "tags": []
          }
        }
      ]
    },
    {
      "cell_type": "code",
      "metadata": {
        "id": "VFwmTT4T0iQz",
        "colab_type": "code",
        "colab": {
          "base_uri": "https://localhost:8080/",
          "height": 138
        },
        "outputId": "4f3b568e-26f2-4af9-b985-de0c9da03e05"
      },
      "source": [
        "df_training_dataset_rmcolumns[['TARGET', 'Original_473']].groupby(['TARGET']).mean()"
      ],
      "execution_count": 69,
      "outputs": [
        {
          "output_type": "execute_result",
          "data": {
            "text/html": [
              "<div>\n",
              "<style scoped>\n",
              "    .dataframe tbody tr th:only-of-type {\n",
              "        vertical-align: middle;\n",
              "    }\n",
              "\n",
              "    .dataframe tbody tr th {\n",
              "        vertical-align: top;\n",
              "    }\n",
              "\n",
              "    .dataframe thead th {\n",
              "        text-align: right;\n",
              "    }\n",
              "</style>\n",
              "<table border=\"1\" class=\"dataframe\">\n",
              "  <thead>\n",
              "    <tr style=\"text-align: right;\">\n",
              "      <th></th>\n",
              "      <th>Original_473</th>\n",
              "    </tr>\n",
              "    <tr>\n",
              "      <th>TARGET</th>\n",
              "      <th></th>\n",
              "    </tr>\n",
              "  </thead>\n",
              "  <tbody>\n",
              "    <tr>\n",
              "      <th>NORMAL</th>\n",
              "      <td>48.998358</td>\n",
              "    </tr>\n",
              "    <tr>\n",
              "      <th>REABASTECER</th>\n",
              "      <td>42.640798</td>\n",
              "    </tr>\n",
              "  </tbody>\n",
              "</table>\n",
              "</div>"
            ],
            "text/plain": [
              "             Original_473\n",
              "TARGET                   \n",
              "NORMAL          48.998358\n",
              "REABASTECER     42.640798"
            ]
          },
          "metadata": {
            "tags": []
          },
          "execution_count": 69
        }
      ]
    },
    {
      "cell_type": "markdown",
      "metadata": {
        "id": "qDXBLary0iQ0",
        "colab_type": "text"
      },
      "source": [
        "# Atenção!\n",
        "\n",
        "As colunas removidas acima são apenas para fim de exemplo, você pode usar as colunas que quiser e inclusive criar novas colunas com dados que achar importantes!\n"
      ]
    },
    {
      "cell_type": "markdown",
      "metadata": {
        "id": "D4JS0Ehf0iQ0",
        "colab_type": "text"
      },
      "source": [
        "### Tratamento de de variáveis categóricas\n",
        "\n",
        "Como mencionado antes, os computadores não são bons com variáveis \"categóricas\" (ou strings).\n",
        "\n",
        "Dado uma coluna com variável categórica, o que podemos realizar é a codificação dessa coluna em múltiplas colunas contendo variáveis binárias. Esse processo é chamado de \"one-hot-encoding\" ou \"dummy encoding\". Se você não é familiarizado com esses termos, você pode pesquisar mais sobre isso na internet :)"
      ]
    },
    {
      "cell_type": "code",
      "metadata": {
        "id": "AjZNLljf0iQ1",
        "colab_type": "code",
        "colab": {
          "base_uri": "https://localhost:8080/",
          "height": 198
        },
        "outputId": "985493cc-a88e-49c2-a351-b926eadbb75a"
      },
      "source": [
        "# Tratando variáveis categóricas com o método Pandas ``get_dummies()''\n",
        "# df_training = pd.get_dummies(df_training_dataset_rmcolumns, columns=['Variável a ser aplicado método getDumies()'])\n",
        "df_training = df_training_dataset_rmcolumns\n",
        "df_training.tail()"
      ],
      "execution_count": 70,
      "outputs": [
        {
          "output_type": "execute_result",
          "data": {
            "text/html": [
              "<div>\n",
              "<style scoped>\n",
              "    .dataframe tbody tr th:only-of-type {\n",
              "        vertical-align: middle;\n",
              "    }\n",
              "\n",
              "    .dataframe tbody tr th {\n",
              "        vertical-align: top;\n",
              "    }\n",
              "\n",
              "    .dataframe thead th {\n",
              "        text-align: right;\n",
              "    }\n",
              "</style>\n",
              "<table border=\"1\" class=\"dataframe\">\n",
              "  <thead>\n",
              "    <tr style=\"text-align: right;\">\n",
              "      <th></th>\n",
              "      <th>Original_473</th>\n",
              "      <th>Original_269</th>\n",
              "      <th>Zero</th>\n",
              "      <th>Maçã-Verde</th>\n",
              "      <th>Tangerina</th>\n",
              "      <th>Citrus</th>\n",
              "      <th>Açaí-Guaraná</th>\n",
              "      <th>Pêssego</th>\n",
              "      <th>TARGET</th>\n",
              "    </tr>\n",
              "  </thead>\n",
              "  <tbody>\n",
              "    <tr>\n",
              "      <th>5452</th>\n",
              "      <td>46</td>\n",
              "      <td>8</td>\n",
              "      <td>40</td>\n",
              "      <td>13</td>\n",
              "      <td>18</td>\n",
              "      <td>32</td>\n",
              "      <td>21</td>\n",
              "      <td>3</td>\n",
              "      <td>REABASTECER</td>\n",
              "    </tr>\n",
              "    <tr>\n",
              "      <th>5453</th>\n",
              "      <td>86</td>\n",
              "      <td>62</td>\n",
              "      <td>37</td>\n",
              "      <td>29</td>\n",
              "      <td>43</td>\n",
              "      <td>40</td>\n",
              "      <td>29</td>\n",
              "      <td>43</td>\n",
              "      <td>NORMAL</td>\n",
              "    </tr>\n",
              "    <tr>\n",
              "      <th>5454</th>\n",
              "      <td>24</td>\n",
              "      <td>65</td>\n",
              "      <td>29</td>\n",
              "      <td>22</td>\n",
              "      <td>18</td>\n",
              "      <td>39</td>\n",
              "      <td>14</td>\n",
              "      <td>4</td>\n",
              "      <td>NORMAL</td>\n",
              "    </tr>\n",
              "    <tr>\n",
              "      <th>5455</th>\n",
              "      <td>63</td>\n",
              "      <td>47</td>\n",
              "      <td>51</td>\n",
              "      <td>39</td>\n",
              "      <td>9</td>\n",
              "      <td>38</td>\n",
              "      <td>20</td>\n",
              "      <td>39</td>\n",
              "      <td>NORMAL</td>\n",
              "    </tr>\n",
              "    <tr>\n",
              "      <th>5456</th>\n",
              "      <td>40</td>\n",
              "      <td>41</td>\n",
              "      <td>65</td>\n",
              "      <td>27</td>\n",
              "      <td>26</td>\n",
              "      <td>15</td>\n",
              "      <td>29</td>\n",
              "      <td>23</td>\n",
              "      <td>NORMAL</td>\n",
              "    </tr>\n",
              "  </tbody>\n",
              "</table>\n",
              "</div>"
            ],
            "text/plain": [
              "      Original_473  Original_269  Zero  ...  Açaí-Guaraná  Pêssego       TARGET\n",
              "5452            46             8    40  ...            21        3  REABASTECER\n",
              "5453            86            62    37  ...            29       43       NORMAL\n",
              "5454            24            65    29  ...            14        4       NORMAL\n",
              "5455            63            47    51  ...            20       39       NORMAL\n",
              "5456            40            41    65  ...            29       23       NORMAL\n",
              "\n",
              "[5 rows x 9 columns]"
            ]
          },
          "metadata": {
            "tags": []
          },
          "execution_count": 70
        }
      ]
    },
    {
      "cell_type": "markdown",
      "metadata": {
        "id": "WtQXkk0C0iQ2",
        "colab_type": "text"
      },
      "source": [
        "# Atenção!\n",
        "\n",
        "A coluna **TARGET** deve ser mantida como uma string. Você não precisa processar/codificar a variável-alvo."
      ]
    },
    {
      "cell_type": "markdown",
      "metadata": {
        "id": "jXOB47n20iQ3",
        "colab_type": "text"
      },
      "source": [
        "<hr>"
      ]
    },
    {
      "cell_type": "markdown",
      "metadata": {
        "id": "SqDd5h-P0iQ3",
        "colab_type": "text"
      },
      "source": [
        "## Treinando um classificador com base em uma árvore de decisão"
      ]
    },
    {
      "cell_type": "markdown",
      "metadata": {
        "id": "-ldQjhRI0iQ4",
        "colab_type": "text"
      },
      "source": [
        "### Selecionando FEATURES e definindo a variável TARGET"
      ]
    },
    {
      "cell_type": "code",
      "metadata": {
        "id": "ip-pZovo0iQ4",
        "colab_type": "code",
        "colab": {
          "base_uri": "https://localhost:8080/",
          "height": 72
        },
        "outputId": "46c90013-460e-471a-e3d8-e4ad117ff4b4"
      },
      "source": [
        "df_training.columns"
      ],
      "execution_count": 71,
      "outputs": [
        {
          "output_type": "execute_result",
          "data": {
            "text/plain": [
              "Index(['Original_473', 'Original_269', 'Zero', 'Maçã-Verde', 'Tangerina',\n",
              "       'Citrus', 'Açaí-Guaraná', 'Pêssego', 'TARGET'],\n",
              "      dtype='object')"
            ]
          },
          "metadata": {
            "tags": []
          },
          "execution_count": 71
        }
      ]
    },
    {
      "cell_type": "code",
      "metadata": {
        "id": "mV8-CZSQ0iQ6",
        "colab_type": "code",
        "colab": {}
      },
      "source": [
        "features = df_training[\n",
        "    [\n",
        "        'Original_473', 'Original_269', 'Zero', 'Maçã-Verde', 'Tangerina',\n",
        "       'Citrus', 'Açaí-Guaraná', 'Pêssego'\n",
        "    ]\n",
        "]\n",
        "target = df_training['TARGET']  ## NÃO TROQUE O NOME DA VARIÁVEL TARGET."
      ],
      "execution_count": 72,
      "outputs": []
    },
    {
      "cell_type": "markdown",
      "metadata": {
        "id": "xXwHtD7J0iQ8",
        "colab_type": "text"
      },
      "source": [
        "### Dividindo nosso conjunto de dados em conjuntos de treinamento e teste"
      ]
    },
    {
      "cell_type": "code",
      "metadata": {
        "id": "Q_swhwOv0iQ8",
        "colab_type": "code",
        "colab": {}
      },
      "source": [
        "from sklearn.model_selection import train_test_split\n",
        "\n",
        "\n",
        "X_train, X_test, y_train, y_test = train_test_split(features, target, test_size=0.33, random_state=133)"
      ],
      "execution_count": 73,
      "outputs": []
    },
    {
      "cell_type": "markdown",
      "metadata": {
        "id": "VCKJkBcS0iQ9",
        "colab_type": "text"
      },
      "source": [
        "### Treinando uma árvore de decisão"
      ]
    },
    {
      "cell_type": "code",
      "metadata": {
        "id": "ctpQcyiX0iQ-",
        "colab_type": "code",
        "colab": {}
      },
      "source": [
        "# Método para criar um árvore de decisão\n",
        "#from sklearn.tree import DecisionTreeClassifier\n",
        "\n",
        "#dtc = DecisionTreeClassifier(max_depth=15).fit(X_train, y_train)"
      ],
      "execution_count": 74,
      "outputs": []
    },
    {
      "cell_type": "markdown",
      "metadata": {
        "id": "Gznbi5km3CyT",
        "colab_type": "text"
      },
      "source": [
        "**XGBClassifier** não consigo rodar na ibm cloud"
      ]
    },
    {
      "cell_type": "code",
      "metadata": {
        "id": "Tn5GFFDW0iRA",
        "colab_type": "code",
        "colab": {
          "base_uri": "https://localhost:8080/",
          "height": 163
        },
        "outputId": "0cdf46c6-5a44-4121-a8cb-70b2cbc84391"
      },
      "source": [
        "from xgboost import XGBClassifier\n",
        "\n",
        "# instanciando o modelo e treinando o mesmo\n",
        "dtc = XGBClassifier(learning_rate=0.01, n_estimators=1000,\n",
        "                         max_depth=3, subsample = 0.9,\n",
        "                         colsample_bytree = 0.1, gamma=1,\n",
        "                         random_state=42)\n",
        "dtc.fit(X_train, y_train)"
      ],
      "execution_count": 75,
      "outputs": [
        {
          "output_type": "execute_result",
          "data": {
            "text/plain": [
              "XGBClassifier(base_score=0.5, booster='gbtree', colsample_bylevel=1,\n",
              "              colsample_bynode=1, colsample_bytree=0.1, gamma=1, gpu_id=-1,\n",
              "              importance_type='gain', interaction_constraints='',\n",
              "              learning_rate=0.01, max_delta_step=0, max_depth=3,\n",
              "              min_child_weight=1, missing=nan, monotone_constraints='()',\n",
              "              n_estimators=1000, n_jobs=0, num_parallel_tree=1, random_state=42,\n",
              "              reg_alpha=0, reg_lambda=1, scale_pos_weight=1, subsample=0.9,\n",
              "              tree_method='exact', validate_parameters=1, verbosity=None)"
            ]
          },
          "metadata": {
            "tags": []
          },
          "execution_count": 75
        }
      ]
    },
    {
      "cell_type": "code",
      "metadata": {
        "id": "Cg00y2pS0iRC",
        "colab_type": "code",
        "colab": {}
      },
      "source": [
        "#from sklearn.ensemble import RandomForestClassifier\n",
        "#dtc = RandomForestClassifier(n_estimators=100, n_jobs=-1, random_state=0)\n",
        "#dtc.fit(X_train, y_train)"
      ],
      "execution_count": 76,
      "outputs": []
    },
    {
      "cell_type": "markdown",
      "metadata": {
        "id": "K4E_rL6Q0iRD",
        "colab_type": "text"
      },
      "source": [
        "### Fazendo previsões na amostra de teste"
      ]
    },
    {
      "cell_type": "code",
      "metadata": {
        "id": "RS3x1T4_0iRE",
        "colab_type": "code",
        "colab": {
          "base_uri": "https://localhost:8080/",
          "height": 35
        },
        "outputId": "74b569e0-7774-4eed-b598-a70adb75b134"
      },
      "source": [
        "y_pred = dtc.predict(X_test)\n",
        "print(y_pred)"
      ],
      "execution_count": 77,
      "outputs": [
        {
          "output_type": "stream",
          "text": [
            "['NORMAL' 'NORMAL' 'NORMAL' ... 'NORMAL' 'NORMAL' 'NORMAL']\n"
          ],
          "name": "stdout"
        }
      ]
    },
    {
      "cell_type": "markdown",
      "metadata": {
        "id": "WHeSaPP80iRF",
        "colab_type": "text"
      },
      "source": [
        "### Analisando a qualidade do modelo através da matriz de confusão"
      ]
    },
    {
      "cell_type": "code",
      "metadata": {
        "id": "LKP13APc0iRF",
        "colab_type": "code",
        "colab": {}
      },
      "source": [
        "import matplotlib.pyplot as plt\n",
        "import numpy as np\n",
        "import itertools\n",
        "\n",
        "\n",
        "def plot_confusion_matrix(cm, target_names, title='Confusion matrix', cmap=None, normalize=True):\n",
        "    accuracy = np.trace(cm) / float(np.sum(cm))\n",
        "    misclass = 1 - accuracy\n",
        "    if cmap is None:\n",
        "        cmap = plt.get_cmap('Blues')\n",
        "    plt.figure(figsize=(8, 6))\n",
        "    plt.imshow(cm, interpolation='nearest', cmap=cmap)\n",
        "    plt.title(title)\n",
        "    plt.colorbar()\n",
        "    if target_names is not None:\n",
        "        tick_marks = np.arange(len(target_names))\n",
        "        plt.xticks(tick_marks, target_names, rotation=45)\n",
        "        plt.yticks(tick_marks, target_names)\n",
        "    if normalize:\n",
        "        cm = cm.astype('float') / cm.sum(axis=1)[:, np.newaxis]\n",
        "    thresh = cm.max() / 1.5 if normalize else cm.max() / 2\n",
        "    for i, j in itertools.product(range(cm.shape[0]), range(cm.shape[1])):\n",
        "        if normalize:\n",
        "            plt.text(j, i, \"{:0.2f}\".format(cm[i, j]),\n",
        "                     horizontalalignment=\"center\",\n",
        "                     color=\"white\" if cm[i, j] > thresh else \"black\")\n",
        "        else:\n",
        "            plt.text(j, i, \"{:,}\".format(cm[i, j]),\n",
        "                     horizontalalignment=\"center\",\n",
        "                     color=\"white\" if cm[i, j] > thresh else \"black\")\n",
        "    plt.tight_layout()\n",
        "    plt.ylabel('True label')\n",
        "    plt.xlabel('Predicted label\\naccuracy={:0.4f}; misclass={:0.4f}'.format(accuracy, misclass))\n",
        "    plt.show()"
      ],
      "execution_count": 78,
      "outputs": []
    },
    {
      "cell_type": "code",
      "metadata": {
        "id": "z5q35kpx0iRH",
        "colab_type": "code",
        "colab": {
          "base_uri": "https://localhost:8080/",
          "height": 469
        },
        "outputId": "4966869b-aea6-4b50-f721-ba376355c0f0"
      },
      "source": [
        "from sklearn.metrics import confusion_matrix\n",
        "\n",
        "\n",
        "plot_confusion_matrix(confusion_matrix(y_test, y_pred), ['NORMAL', 'REABASTECER'])"
      ],
      "execution_count": 79,
      "outputs": [
        {
          "output_type": "display_data",
          "data": {
            "image/png": "[encoded data removed]",
            "text/plain": [
              "<Figure size 576x432 with 2 Axes>"
            ]
          },
          "metadata": {
            "tags": []
          }
        }
      ]
    },
    {
      "cell_type": "markdown",
      "metadata": {
        "id": "CMgxZ1o30iRJ",
        "colab_type": "text"
      },
      "source": [
        "<hr>"
      ]
    },
    {
      "cell_type": "markdown",
      "metadata": {
        "id": "F2AKKly30iRJ",
        "colab_type": "text"
      },
      "source": [
        "## Scoring dos dados necessários para entregar a solução"
      ]
    },
    {
      "cell_type": "markdown",
      "metadata": {
        "id": "WodSwbja0iRJ",
        "colab_type": "text"
      },
      "source": [
        "Como entrega da sua solução, esperamos os resultados classificados no seguinte dataset chamado \"to_be_scored.csv\":"
      ]
    },
    {
      "cell_type": "markdown",
      "metadata": {
        "id": "KJJetrb70iRJ",
        "colab_type": "text"
      },
      "source": [
        "### Download da \"folha de respostas\""
      ]
    },
    {
      "cell_type": "code",
      "metadata": {
        "scrolled": false,
        "id": "zXF45fhB0iRK",
        "colab_type": "code",
        "colab": {
          "base_uri": "https://localhost:8080/",
          "height": 398
        },
        "outputId": "2cbe74e5-6279-48b6-a143-83a00499ad37"
      },
      "source": [
        "!wget --no-check-certificate --content-disposition https://gitlab.com/JoaoPedroPP/datasets/-/raw/master/ntn/to_be_scored.csv\n",
        "df_to_be_scored = pd.read_csv(r'to_be_scored.csv')\n",
        "df_to_be_scored.tail()"
      ],
      "execution_count": 80,
      "outputs": [
        {
          "output_type": "stream",
          "text": [
            "--2020-09-10 16:33:19--  https://gitlab.com/JoaoPedroPP/datasets/-/raw/master/ntn/to_be_scored.csv\n",
            "Resolving gitlab.com (gitlab.com)... 172.65.251.78, 2606:4700:90:0:f22e:fbec:5bed:a9b9\n",
            "Connecting to gitlab.com (gitlab.com)|172.65.251.78|:443... connected.\n",
            "HTTP request sent, awaiting response... 200 OK\n",
            "Length: unspecified [text/plain]\n",
            "Saving to: ‘to_be_scored.csv’\n",
            "\n",
            "to_be_scored.csv        [ <=>                ]  68.64K  --.-KB/s    in 0.004s  \n",
            "\n",
            "2020-09-10 16:33:19 (15.1 MB/s) - ‘to_be_scored.csv’ saved [70291]\n",
            "\n"
          ],
          "name": "stdout"
        },
        {
          "output_type": "execute_result",
          "data": {
            "text/html": [
              "<div>\n",
              "<style scoped>\n",
              "    .dataframe tbody tr th:only-of-type {\n",
              "        vertical-align: middle;\n",
              "    }\n",
              "\n",
              "    .dataframe tbody tr th {\n",
              "        vertical-align: top;\n",
              "    }\n",
              "\n",
              "    .dataframe thead th {\n",
              "        text-align: right;\n",
              "    }\n",
              "</style>\n",
              "<table border=\"1\" class=\"dataframe\">\n",
              "  <thead>\n",
              "    <tr style=\"text-align: right;\">\n",
              "      <th></th>\n",
              "      <th>Tempo</th>\n",
              "      <th>Estação</th>\n",
              "      <th>LAT</th>\n",
              "      <th>LONG</th>\n",
              "      <th>Movimentação</th>\n",
              "      <th>Original_473</th>\n",
              "      <th>Original_269</th>\n",
              "      <th>Zero</th>\n",
              "      <th>Maçã-Verde</th>\n",
              "      <th>Tangerina</th>\n",
              "      <th>Citrus</th>\n",
              "      <th>Açaí-Guaraná</th>\n",
              "      <th>Pêssego</th>\n",
              "    </tr>\n",
              "  </thead>\n",
              "  <tbody>\n",
              "    <tr>\n",
              "      <th>979</th>\n",
              "      <td>2019-8-19</td>\n",
              "      <td>Hospital São Paulo</td>\n",
              "      <td>-23.5984</td>\n",
              "      <td>-46.6455</td>\n",
              "      <td>26787</td>\n",
              "      <td>34</td>\n",
              "      <td>65</td>\n",
              "      <td>28</td>\n",
              "      <td>17</td>\n",
              "      <td>33</td>\n",
              "      <td>27</td>\n",
              "      <td>6</td>\n",
              "      <td>2</td>\n",
              "    </tr>\n",
              "    <tr>\n",
              "      <th>980</th>\n",
              "      <td>2019-8-20</td>\n",
              "      <td>Hospital São Paulo</td>\n",
              "      <td>-23.5984</td>\n",
              "      <td>-46.6455</td>\n",
              "      <td>26629</td>\n",
              "      <td>21</td>\n",
              "      <td>60</td>\n",
              "      <td>18</td>\n",
              "      <td>15</td>\n",
              "      <td>27</td>\n",
              "      <td>22</td>\n",
              "      <td>43</td>\n",
              "      <td>43</td>\n",
              "    </tr>\n",
              "    <tr>\n",
              "      <th>981</th>\n",
              "      <td>2019-8-21</td>\n",
              "      <td>Hospital São Paulo</td>\n",
              "      <td>-23.5984</td>\n",
              "      <td>-46.6455</td>\n",
              "      <td>27517</td>\n",
              "      <td>9</td>\n",
              "      <td>56</td>\n",
              "      <td>13</td>\n",
              "      <td>14</td>\n",
              "      <td>21</td>\n",
              "      <td>17</td>\n",
              "      <td>37</td>\n",
              "      <td>37</td>\n",
              "    </tr>\n",
              "    <tr>\n",
              "      <th>982</th>\n",
              "      <td>2019-8-22</td>\n",
              "      <td>Hospital São Paulo</td>\n",
              "      <td>-23.5984</td>\n",
              "      <td>-46.6455</td>\n",
              "      <td>26860</td>\n",
              "      <td>86</td>\n",
              "      <td>49</td>\n",
              "      <td>7</td>\n",
              "      <td>14</td>\n",
              "      <td>17</td>\n",
              "      <td>12</td>\n",
              "      <td>33</td>\n",
              "      <td>33</td>\n",
              "    </tr>\n",
              "    <tr>\n",
              "      <th>983</th>\n",
              "      <td>2019-8-23</td>\n",
              "      <td>Hospital São Paulo</td>\n",
              "      <td>-23.5984</td>\n",
              "      <td>-46.6455</td>\n",
              "      <td>24571</td>\n",
              "      <td>74</td>\n",
              "      <td>41</td>\n",
              "      <td>65</td>\n",
              "      <td>8</td>\n",
              "      <td>14</td>\n",
              "      <td>7</td>\n",
              "      <td>27</td>\n",
              "      <td>27</td>\n",
              "    </tr>\n",
              "  </tbody>\n",
              "</table>\n",
              "</div>"
            ],
            "text/plain": [
              "         Tempo             Estação      LAT  ...  Citrus  Açaí-Guaraná  Pêssego\n",
              "979  2019-8-19  Hospital São Paulo -23.5984  ...      27             6        2\n",
              "980  2019-8-20  Hospital São Paulo -23.5984  ...      22            43       43\n",
              "981  2019-8-21  Hospital São Paulo -23.5984  ...      17            37       37\n",
              "982  2019-8-22  Hospital São Paulo -23.5984  ...      12            33       33\n",
              "983  2019-8-23  Hospital São Paulo -23.5984  ...       7            27       27\n",
              "\n",
              "[5 rows x 13 columns]"
            ]
          },
          "metadata": {
            "tags": []
          },
          "execution_count": 80
        }
      ]
    },
    {
      "cell_type": "code",
      "metadata": {
        "id": "ECGu23sY0iRL",
        "colab_type": "code",
        "colab": {
          "base_uri": "https://localhost:8080/",
          "height": 198
        },
        "outputId": "8f0f68af-f578-4846-e63a-f24361c897f9"
      },
      "source": [
        "df_to_be_scored = pd.read_csv('to_be_scored.csv')\n",
        "df_to_be_scored.tail()"
      ],
      "execution_count": 81,
      "outputs": [
        {
          "output_type": "execute_result",
          "data": {
            "text/html": [
              "<div>\n",
              "<style scoped>\n",
              "    .dataframe tbody tr th:only-of-type {\n",
              "        vertical-align: middle;\n",
              "    }\n",
              "\n",
              "    .dataframe tbody tr th {\n",
              "        vertical-align: top;\n",
              "    }\n",
              "\n",
              "    .dataframe thead th {\n",
              "        text-align: right;\n",
              "    }\n",
              "</style>\n",
              "<table border=\"1\" class=\"dataframe\">\n",
              "  <thead>\n",
              "    <tr style=\"text-align: right;\">\n",
              "      <th></th>\n",
              "      <th>Tempo</th>\n",
              "      <th>Estação</th>\n",
              "      <th>LAT</th>\n",
              "      <th>LONG</th>\n",
              "      <th>Movimentação</th>\n",
              "      <th>Original_473</th>\n",
              "      <th>Original_269</th>\n",
              "      <th>Zero</th>\n",
              "      <th>Maçã-Verde</th>\n",
              "      <th>Tangerina</th>\n",
              "      <th>Citrus</th>\n",
              "      <th>Açaí-Guaraná</th>\n",
              "      <th>Pêssego</th>\n",
              "    </tr>\n",
              "  </thead>\n",
              "  <tbody>\n",
              "    <tr>\n",
              "      <th>979</th>\n",
              "      <td>2019-8-19</td>\n",
              "      <td>Hospital São Paulo</td>\n",
              "      <td>-23.5984</td>\n",
              "      <td>-46.6455</td>\n",
              "      <td>26787</td>\n",
              "      <td>34</td>\n",
              "      <td>65</td>\n",
              "      <td>28</td>\n",
              "      <td>17</td>\n",
              "      <td>33</td>\n",
              "      <td>27</td>\n",
              "      <td>6</td>\n",
              "      <td>2</td>\n",
              "    </tr>\n",
              "    <tr>\n",
              "      <th>980</th>\n",
              "      <td>2019-8-20</td>\n",
              "      <td>Hospital São Paulo</td>\n",
              "      <td>-23.5984</td>\n",
              "      <td>-46.6455</td>\n",
              "      <td>26629</td>\n",
              "      <td>21</td>\n",
              "      <td>60</td>\n",
              "      <td>18</td>\n",
              "      <td>15</td>\n",
              "      <td>27</td>\n",
              "      <td>22</td>\n",
              "      <td>43</td>\n",
              "      <td>43</td>\n",
              "    </tr>\n",
              "    <tr>\n",
              "      <th>981</th>\n",
              "      <td>2019-8-21</td>\n",
              "      <td>Hospital São Paulo</td>\n",
              "      <td>-23.5984</td>\n",
              "      <td>-46.6455</td>\n",
              "      <td>27517</td>\n",
              "      <td>9</td>\n",
              "      <td>56</td>\n",
              "      <td>13</td>\n",
              "      <td>14</td>\n",
              "      <td>21</td>\n",
              "      <td>17</td>\n",
              "      <td>37</td>\n",
              "      <td>37</td>\n",
              "    </tr>\n",
              "    <tr>\n",
              "      <th>982</th>\n",
              "      <td>2019-8-22</td>\n",
              "      <td>Hospital São Paulo</td>\n",
              "      <td>-23.5984</td>\n",
              "      <td>-46.6455</td>\n",
              "      <td>26860</td>\n",
              "      <td>86</td>\n",
              "      <td>49</td>\n",
              "      <td>7</td>\n",
              "      <td>14</td>\n",
              "      <td>17</td>\n",
              "      <td>12</td>\n",
              "      <td>33</td>\n",
              "      <td>33</td>\n",
              "    </tr>\n",
              "    <tr>\n",
              "      <th>983</th>\n",
              "      <td>2019-8-23</td>\n",
              "      <td>Hospital São Paulo</td>\n",
              "      <td>-23.5984</td>\n",
              "      <td>-46.6455</td>\n",
              "      <td>24571</td>\n",
              "      <td>74</td>\n",
              "      <td>41</td>\n",
              "      <td>65</td>\n",
              "      <td>8</td>\n",
              "      <td>14</td>\n",
              "      <td>7</td>\n",
              "      <td>27</td>\n",
              "      <td>27</td>\n",
              "    </tr>\n",
              "  </tbody>\n",
              "</table>\n",
              "</div>"
            ],
            "text/plain": [
              "         Tempo             Estação      LAT  ...  Citrus  Açaí-Guaraná  Pêssego\n",
              "979  2019-8-19  Hospital São Paulo -23.5984  ...      27             6        2\n",
              "980  2019-8-20  Hospital São Paulo -23.5984  ...      22            43       43\n",
              "981  2019-8-21  Hospital São Paulo -23.5984  ...      17            37       37\n",
              "982  2019-8-22  Hospital São Paulo -23.5984  ...      12            33       33\n",
              "983  2019-8-23  Hospital São Paulo -23.5984  ...       7            27       27\n",
              "\n",
              "[5 rows x 13 columns]"
            ]
          },
          "metadata": {
            "tags": []
          },
          "execution_count": 81
        }
      ]
    },
    {
      "cell_type": "markdown",
      "metadata": {
        "id": "FPROG1V00iRM",
        "colab_type": "text"
      },
      "source": [
        "# Atenção!\n",
        "\n",
        "O dataframe ``to_be_scored`` é a sua \"folha de respostas\". Note que a coluna \"TARGET\" não existe nessa amostra, que não pode ser então utilizada para treino de modelos de aprendizado supervisionado."
      ]
    },
    {
      "cell_type": "code",
      "metadata": {
        "scrolled": true,
        "id": "Xmx0xqKh0iRN",
        "colab_type": "code",
        "colab": {
          "base_uri": "https://localhost:8080/",
          "height": 381
        },
        "outputId": "3d676aca-b532-49e1-f414-13b29ee0e097"
      },
      "source": [
        "df_to_be_scored.head().info()"
      ],
      "execution_count": 82,
      "outputs": [
        {
          "output_type": "stream",
          "text": [
            "<class 'pandas.core.frame.DataFrame'>\n",
            "RangeIndex: 5 entries, 0 to 4\n",
            "Data columns (total 13 columns):\n",
            " #   Column        Non-Null Count  Dtype  \n",
            "---  ------        --------------  -----  \n",
            " 0   Tempo         5 non-null      object \n",
            " 1   Estação       5 non-null      object \n",
            " 2   LAT           5 non-null      float64\n",
            " 3   LONG          5 non-null      float64\n",
            " 4   Movimentação  5 non-null      int64  \n",
            " 5   Original_473  5 non-null      int64  \n",
            " 6   Original_269  5 non-null      int64  \n",
            " 7   Zero          5 non-null      int64  \n",
            " 8   Maçã-Verde    5 non-null      int64  \n",
            " 9   Tangerina     5 non-null      int64  \n",
            " 10  Citrus        5 non-null      int64  \n",
            " 11  Açaí-Guaraná  5 non-null      int64  \n",
            " 12  Pêssego       5 non-null      int64  \n",
            "dtypes: float64(2), int64(9), object(2)\n",
            "memory usage: 648.0+ bytes\n"
          ],
          "name": "stdout"
        }
      ]
    },
    {
      "cell_type": "markdown",
      "metadata": {
        "id": "X6UHiqs30iRO",
        "colab_type": "text"
      },
      "source": [
        "<hr>\n",
        "\n",
        "# Atenção!\n",
        "\n",
        "# Para poder aplicar seu modelo e classificar a folha de respostas, você precisa primeiro aplicar as mesmas transformações com colunas que você aplicou no dataset de treino.\n",
        "\n",
        "# Não remova ou adicione linhas na folha de respostas. \n",
        "\n",
        "# Não altere a ordem das linhas na folha de respostas.\n",
        "\n",
        "# Ao final, as 1000 entradas devem estar classificadas, com os valores previstos em uma coluna chamada \"target\"\n",
        "\n",
        "<hr>"
      ]
    },
    {
      "cell_type": "markdown",
      "metadata": {
        "id": "0hYfrJjL0iRO",
        "colab_type": "text"
      },
      "source": [
        "Na célula abaixo, repetimos rapidamente os mesmos passos de pré-processamento usados no exemplo dado com árvore de decisão"
      ]
    },
    {
      "cell_type": "code",
      "metadata": {
        "id": "hThhq4nT0iRP",
        "colab_type": "code",
        "colab": {
          "base_uri": "https://localhost:8080/",
          "height": 198
        },
        "outputId": "a1de77b5-2c7d-4f4b-ae40-ba5ae1abdc91"
      },
      "source": [
        "# 1 - Removendo linhas com valores NaN\n",
        "df_to_be_scored_1 = df_to_be_scored.dropna(axis='index', how='any', subset=['Tempo', 'Estação', 'LAT', 'LONG', 'Movimentação', 'Original_473', 'Original_269', 'Zero', 'Maçã-Verde', 'Tangerina', 'Citrus', 'Açaí-Guaraná', 'Pêssego'])\n",
        "\n",
        "# 2 - Inputando zeros nos valores faltantes\n",
        "impute_zeros.fit(X=df_to_be_scored_1)\n",
        "df_to_be_scored_2 = pd.DataFrame.from_records(\n",
        "    data=impute_zeros.transform(\n",
        "        X=df_to_be_scored_1\n",
        "    ),\n",
        "    columns=df_to_be_scored_1.columns\n",
        ")\n",
        "\n",
        "# 3 - Remoção de colunas\n",
        "df_to_be_scored_3 = df_to_be_scored_2.drop(columns=['Tempo', 'Estação', 'LAT', 'LONG', 'Movimentação'], inplace=False)\n",
        "\n",
        "# 4 - Encoding com \"dummy variables\" (se necessário)\n",
        "# df_to_be_scored_4 = pd.get_dummies(df_to_be_scored_3, columns=['Váriavel com dummy'])\n",
        "df_to_be_scored_4 = df_to_be_scored_3\n",
        "\n",
        "df_to_be_scored_4.tail()"
      ],
      "execution_count": 83,
      "outputs": [
        {
          "output_type": "execute_result",
          "data": {
            "text/html": [
              "<div>\n",
              "<style scoped>\n",
              "    .dataframe tbody tr th:only-of-type {\n",
              "        vertical-align: middle;\n",
              "    }\n",
              "\n",
              "    .dataframe tbody tr th {\n",
              "        vertical-align: top;\n",
              "    }\n",
              "\n",
              "    .dataframe thead th {\n",
              "        text-align: right;\n",
              "    }\n",
              "</style>\n",
              "<table border=\"1\" class=\"dataframe\">\n",
              "  <thead>\n",
              "    <tr style=\"text-align: right;\">\n",
              "      <th></th>\n",
              "      <th>Original_473</th>\n",
              "      <th>Original_269</th>\n",
              "      <th>Zero</th>\n",
              "      <th>Maçã-Verde</th>\n",
              "      <th>Tangerina</th>\n",
              "      <th>Citrus</th>\n",
              "      <th>Açaí-Guaraná</th>\n",
              "      <th>Pêssego</th>\n",
              "    </tr>\n",
              "  </thead>\n",
              "  <tbody>\n",
              "    <tr>\n",
              "      <th>979</th>\n",
              "      <td>34</td>\n",
              "      <td>65</td>\n",
              "      <td>28</td>\n",
              "      <td>17</td>\n",
              "      <td>33</td>\n",
              "      <td>27</td>\n",
              "      <td>6</td>\n",
              "      <td>2</td>\n",
              "    </tr>\n",
              "    <tr>\n",
              "      <th>980</th>\n",
              "      <td>21</td>\n",
              "      <td>60</td>\n",
              "      <td>18</td>\n",
              "      <td>15</td>\n",
              "      <td>27</td>\n",
              "      <td>22</td>\n",
              "      <td>43</td>\n",
              "      <td>43</td>\n",
              "    </tr>\n",
              "    <tr>\n",
              "      <th>981</th>\n",
              "      <td>9</td>\n",
              "      <td>56</td>\n",
              "      <td>13</td>\n",
              "      <td>14</td>\n",
              "      <td>21</td>\n",
              "      <td>17</td>\n",
              "      <td>37</td>\n",
              "      <td>37</td>\n",
              "    </tr>\n",
              "    <tr>\n",
              "      <th>982</th>\n",
              "      <td>86</td>\n",
              "      <td>49</td>\n",
              "      <td>7</td>\n",
              "      <td>14</td>\n",
              "      <td>17</td>\n",
              "      <td>12</td>\n",
              "      <td>33</td>\n",
              "      <td>33</td>\n",
              "    </tr>\n",
              "    <tr>\n",
              "      <th>983</th>\n",
              "      <td>74</td>\n",
              "      <td>41</td>\n",
              "      <td>65</td>\n",
              "      <td>8</td>\n",
              "      <td>14</td>\n",
              "      <td>7</td>\n",
              "      <td>27</td>\n",
              "      <td>27</td>\n",
              "    </tr>\n",
              "  </tbody>\n",
              "</table>\n",
              "</div>"
            ],
            "text/plain": [
              "     Original_473  Original_269  Zero  ...  Citrus  Açaí-Guaraná  Pêssego\n",
              "979            34            65    28  ...      27             6        2\n",
              "980            21            60    18  ...      22            43       43\n",
              "981             9            56    13  ...      17            37       37\n",
              "982            86            49     7  ...      12            33       33\n",
              "983            74            41    65  ...       7            27       27\n",
              "\n",
              "[5 rows x 8 columns]"
            ]
          },
          "metadata": {
            "tags": []
          },
          "execution_count": 83
        }
      ]
    },
    {
      "cell_type": "markdown",
      "metadata": {
        "id": "2zbAQZz60iRQ",
        "colab_type": "text"
      },
      "source": [
        "<hr>\n",
        "\n",
        "Pode ser verificado abaixo que as colunas da folha de resposta agora são idênticas às que foram usadas para treinar o modelo:"
      ]
    },
    {
      "cell_type": "code",
      "metadata": {
        "id": "dT-IlJF90iRR",
        "colab_type": "code",
        "colab": {
          "base_uri": "https://localhost:8080/",
          "height": 72
        },
        "outputId": "a6fc5fd2-c03e-4acc-a721-395e7b43ceda"
      },
      "source": [
        "df_training[\n",
        "    [\n",
        "        'Original_473', 'Original_269', 'Zero', 'Maçã-Verde', 'Tangerina',\n",
        "       'Citrus', 'Açaí-Guaraná', 'Pêssego'\n",
        "    ]\n",
        "].columns"
      ],
      "execution_count": 84,
      "outputs": [
        {
          "output_type": "execute_result",
          "data": {
            "text/plain": [
              "Index(['Original_473', 'Original_269', 'Zero', 'Maçã-Verde', 'Tangerina',\n",
              "       'Citrus', 'Açaí-Guaraná', 'Pêssego'],\n",
              "      dtype='object')"
            ]
          },
          "metadata": {
            "tags": []
          },
          "execution_count": 84
        }
      ]
    },
    {
      "cell_type": "code",
      "metadata": {
        "id": "cZ_C_ru90iRS",
        "colab_type": "code",
        "colab": {
          "base_uri": "https://localhost:8080/",
          "height": 72
        },
        "outputId": "c66df2cd-6c28-4991-840f-a4902aedec93"
      },
      "source": [
        "df_to_be_scored_4.columns"
      ],
      "execution_count": 85,
      "outputs": [
        {
          "output_type": "execute_result",
          "data": {
            "text/plain": [
              "Index(['Original_473', 'Original_269', 'Zero', 'Maçã-Verde', 'Tangerina',\n",
              "       'Citrus', 'Açaí-Guaraná', 'Pêssego'],\n",
              "      dtype='object')"
            ]
          },
          "metadata": {
            "tags": []
          },
          "execution_count": 85
        }
      ]
    },
    {
      "cell_type": "code",
      "metadata": {
        "id": "nIRIZJs21dw7",
        "colab_type": "code",
        "colab": {
          "base_uri": "https://localhost:8080/",
          "height": 221
        },
        "outputId": "58a6ba73-d99d-4624-92ae-2397356df69a"
      },
      "source": [
        "original_473_target = sns.FacetGrid(df_training_dataset_rmcolumns, col='TARGET');\n",
        "original_473_target.map(sns.distplot, 'Original_473');"
      ],
      "execution_count": 86,
      "outputs": [
        {
          "output_type": "display_data",
          "data": {
            "image/png": "[encoded data removed]",
            "text/plain": [
              "<Figure size 432x216 with 2 Axes>"
            ]
          },
          "metadata": {
            "tags": []
          }
        }
      ]
    },
    {
      "cell_type": "markdown",
      "metadata": {
        "id": "81AdnkLt0iRU",
        "colab_type": "text"
      },
      "source": [
        "# Atenção\n",
        "\n",
        "Para todas colunas que não existirem no \"df_to_be_scored\", você pode usar a técnica abaixo para adicioná-las:"
      ]
    },
    {
      "cell_type": "code",
      "metadata": {
        "scrolled": false,
        "id": "gdA7HYSi0iRU",
        "colab_type": "code",
        "colab": {
          "base_uri": "https://localhost:8080/",
          "height": 198
        },
        "outputId": "c259cfef-9dc1-4ca8-c344-916f34c58578"
      },
      "source": [
        "y_pred = dtc.predict(df_to_be_scored_4)\n",
        "df_to_be_scored_4['TARGET'] = y_pred\n",
        "df_to_be_scored_4.tail()"
      ],
      "execution_count": 87,
      "outputs": [
        {
          "output_type": "execute_result",
          "data": {
            "text/html": [
              "<div>\n",
              "<style scoped>\n",
              "    .dataframe tbody tr th:only-of-type {\n",
              "        vertical-align: middle;\n",
              "    }\n",
              "\n",
              "    .dataframe tbody tr th {\n",
              "        vertical-align: top;\n",
              "    }\n",
              "\n",
              "    .dataframe thead th {\n",
              "        text-align: right;\n",
              "    }\n",
              "</style>\n",
              "<table border=\"1\" class=\"dataframe\">\n",
              "  <thead>\n",
              "    <tr style=\"text-align: right;\">\n",
              "      <th></th>\n",
              "      <th>Original_473</th>\n",
              "      <th>Original_269</th>\n",
              "      <th>Zero</th>\n",
              "      <th>Maçã-Verde</th>\n",
              "      <th>Tangerina</th>\n",
              "      <th>Citrus</th>\n",
              "      <th>Açaí-Guaraná</th>\n",
              "      <th>Pêssego</th>\n",
              "      <th>TARGET</th>\n",
              "    </tr>\n",
              "  </thead>\n",
              "  <tbody>\n",
              "    <tr>\n",
              "      <th>979</th>\n",
              "      <td>34</td>\n",
              "      <td>65</td>\n",
              "      <td>28</td>\n",
              "      <td>17</td>\n",
              "      <td>33</td>\n",
              "      <td>27</td>\n",
              "      <td>6</td>\n",
              "      <td>2</td>\n",
              "      <td>REABASTECER</td>\n",
              "    </tr>\n",
              "    <tr>\n",
              "      <th>980</th>\n",
              "      <td>21</td>\n",
              "      <td>60</td>\n",
              "      <td>18</td>\n",
              "      <td>15</td>\n",
              "      <td>27</td>\n",
              "      <td>22</td>\n",
              "      <td>43</td>\n",
              "      <td>43</td>\n",
              "      <td>NORMAL</td>\n",
              "    </tr>\n",
              "    <tr>\n",
              "      <th>981</th>\n",
              "      <td>9</td>\n",
              "      <td>56</td>\n",
              "      <td>13</td>\n",
              "      <td>14</td>\n",
              "      <td>21</td>\n",
              "      <td>17</td>\n",
              "      <td>37</td>\n",
              "      <td>37</td>\n",
              "      <td>NORMAL</td>\n",
              "    </tr>\n",
              "    <tr>\n",
              "      <th>982</th>\n",
              "      <td>86</td>\n",
              "      <td>49</td>\n",
              "      <td>7</td>\n",
              "      <td>14</td>\n",
              "      <td>17</td>\n",
              "      <td>12</td>\n",
              "      <td>33</td>\n",
              "      <td>33</td>\n",
              "      <td>REABASTECER</td>\n",
              "    </tr>\n",
              "    <tr>\n",
              "      <th>983</th>\n",
              "      <td>74</td>\n",
              "      <td>41</td>\n",
              "      <td>65</td>\n",
              "      <td>8</td>\n",
              "      <td>14</td>\n",
              "      <td>7</td>\n",
              "      <td>27</td>\n",
              "      <td>27</td>\n",
              "      <td>NORMAL</td>\n",
              "    </tr>\n",
              "  </tbody>\n",
              "</table>\n",
              "</div>"
            ],
            "text/plain": [
              "     Original_473  Original_269  Zero  ...  Açaí-Guaraná  Pêssego       TARGET\n",
              "979            34            65    28  ...             6        2  REABASTECER\n",
              "980            21            60    18  ...            43       43       NORMAL\n",
              "981             9            56    13  ...            37       37       NORMAL\n",
              "982            86            49     7  ...            33       33  REABASTECER\n",
              "983            74            41    65  ...            27       27       NORMAL\n",
              "\n",
              "[5 rows x 9 columns]"
            ]
          },
          "metadata": {
            "tags": []
          },
          "execution_count": 87
        }
      ]
    },
    {
      "cell_type": "markdown",
      "metadata": {
        "id": "g25K3uOx0iRX",
        "colab_type": "text"
      },
      "source": [
        "### Salvando a folha de respostas como um arquivo .csv para ser submetido"
      ]
    },
    {
      "cell_type": "code",
      "metadata": {
        "id": "leyCjoJ10iRX",
        "colab_type": "code",
        "colab": {}
      },
      "source": [
        "#project.save_data(file_name=\"results.csv\", data=df_to_be_scored_4.to_csv(index=False))\n",
        "df_to_be_scored_4.to_csv('results.csv', index = False)"
      ],
      "execution_count": 88,
      "outputs": []
    },
    {
      "cell_type": "code",
      "metadata": {
        "id": "7-hMb0l81Sfo",
        "colab_type": "code",
        "colab": {
          "base_uri": "https://localhost:8080/",
          "height": 199
        },
        "outputId": "a8a4166a-f9cf-45b8-deb7-31760dd36fae"
      },
      "source": [
        "!head -n10 results.csv"
      ],
      "execution_count": 89,
      "outputs": [
        {
          "output_type": "stream",
          "text": [
            "Original_473,Original_269,Zero,Maçã-Verde,Tangerina,Citrus,Açaí-Guaraná,Pêssego,TARGET\n",
            "22,65,22,14,3,26,43,18,NORMAL\n",
            "11,56,16,14,43,20,37,15,NORMAL\n",
            "86,51,8,11,41,20,35,12,NORMAL\n",
            "76,47,65,11,37,14,32,10,NORMAL\n",
            "68,42,60,6,35,13,26,5,REABASTECER\n",
            "57,35,55,43,31,9,22,43,NORMAL\n",
            "45,33,50,39,25,5,16,39,NORMAL\n",
            "34,28,41,39,22,43,13,34,NORMAL\n",
            "22,24,31,35,18,40,8,29,NORMAL\n"
          ],
          "name": "stdout"
        }
      ]
    },
    {
      "cell_type": "markdown",
      "metadata": {
        "id": "muVBhvc10iRZ",
        "colab_type": "text"
      },
      "source": [
        "# Atenção\n",
        "\n",
        "# A execução da célula acima irá criar um novo \"data asset\" no seu projeto no Watson Studio. Você precisará realizar o download deste arquivo juntamente com este notebook e criar um arquivo zip com os arquivos **results.csv** e **notebook.ipynb** para submissão. (os arquivos devem estar nomeados desta forma)"
      ]
    },
    {
      "cell_type": "markdown",
      "metadata": {
        "id": "XpRr4bVq0iRZ",
        "colab_type": "text"
      },
      "source": [
        "<hr>\n",
        "\n",
        "## Parabéns!\n",
        "\n",
        "Se você já está satisfeito com a sua solução, vá até a página abaixo e envie os arquivos necessários para submissão.\n",
        "\n",
        "# https://tnt.maratona.dev\n"
      ]
    },
    {
      "cell_type": "code",
      "metadata": {
        "id": "9cgw_L5F0iRa",
        "colab_type": "code",
        "colab": {}
      },
      "source": [
        ""
      ],
      "execution_count": 89,
      "outputs": []
    }
  ]
}